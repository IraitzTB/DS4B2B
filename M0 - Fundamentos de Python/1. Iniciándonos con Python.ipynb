{
 "cells": [
  {
   "cell_type": "markdown",
   "id": "e192e4c6",
   "metadata": {},
   "source": [
    "Para iniciarnos en Python podemos abrir de manera sencilla este notebook en un entorno colaborativo online. Esto nos permitirá hacer nuestras primeras pruebas sin necesidad de hacer instalaciones adicionales.\n",
    "\n",
    "[![Abrir en Colab](https://colab.research.google.com/assets/colab-badge.svg)](https://colab.research.google.com/github/IraitzTB/DS4B2B/blob/main/M0%20-%20Fundamentos%20de%20Python/1.%20Inici%C3%A1ndonos%20con%20Python.ipynb)\n",
    "\n",
    "Este tipo de fichero `.ipynb` (acrónimo de IPython notebook) nos permite alternar código junto con celdas de texto. Menos común en el ámbito del desarrollo, en el mundo de la ciencia de datos solemos combinar explicaciones con celdas de código que ejecutan lo que pretendemos validar o visualizad."
   ]
  },
  {
   "cell_type": "code",
   "execution_count": 1,
   "id": "825d29bb",
   "metadata": {},
   "outputs": [
    {
     "name": "stdout",
     "output_type": "stream",
     "text": [
      "Python 3.12.7\n"
     ]
    }
   ],
   "source": [
    "!python --version"
   ]
  },
  {
   "cell_type": "markdown",
   "id": "d3f298ef",
   "metadata": {},
   "source": [
    "[Python](https://devguide.python.org/versions/) es un lenguaje de programación de alto nivel creado por Guido van Rossum y lanzado por primera vez en 1991. Se caracteriza por su sintaxis sencilla y legible, lo que facilita el aprendizaje y la escritura de código. A diferencia de otros lenguajes como C++ o Java, Python prioriza la claridad y la simplicidad, permitiendo a los desarrolladores centrarse en la resolución de problemas en lugar de en detalles complejos del lenguaje.\n",
    "\n",
    "Entre sus características principales destacan:\n",
    "\n",
    "- **Sintaxis clara y concisa**: facilita la lectura y el mantenimiento del código.\n",
    "- **Multiparadigma**: soporta programación orientada a objetos, imperativa y, en menor medida, funcional.\n",
    "- **Gran comunidad y ecosistema**: dispone de una amplia variedad de librerías y frameworks para ciencia de datos, desarrollo web, automatización, inteligencia artificial, entre otros.\n",
    "- **Portabilidad**: es multiplataforma, lo que permite ejecutar programas en diferentes sistemas operativos sin apenas modificaciones.\n",
    "- **Interpretado**: no requiere compilación previa, lo que agiliza el desarrollo y la prueba de código.\n",
    "\n",
    "Gracias a estas ventajas, Python se ha convertido en uno de los lenguajes más populares tanto en el ámbito académico como profesional.\n",
    "\n",
    "Veremos que no es un lenguaje que de programas rápidos, pero existen formas de emplear Python como interfaz sencilla y que este se comunique con códigos de bajo nivel que nos den un mejor rendimiento."
   ]
  },
  {
   "cell_type": "markdown",
   "id": "2c83c09a",
   "metadata": {},
   "source": [
    "# 1. Variables y Tipos de Datos\n",
    "\n",
    "En Python, las variables son contenedores para almacenar datos. A diferencia de otros lenguajes, no necesitas declarar el tipo de variable explícitamente - Python lo infiere automáticamente.\n",
    "\n",
    "Los tipos de datos básicos en Python incluyen:\n",
    "- Números (int, float)\n",
    "- Cadenas de texto (str)\n",
    "- Booleanos (bool)\n",
    "- Listas\n",
    "- Tuplas\n",
    "- Diccionarios\n",
    "\n",
    "Veamos algunos ejemplos:"
   ]
  },
  {
   "cell_type": "code",
   "execution_count": 1,
   "id": "48d365c4",
   "metadata": {},
   "outputs": [],
   "source": [
    "# Números\n",
    "edad = 25               # Entero\n",
    "altura = 1.75           # Float"
   ]
  },
  {
   "cell_type": "code",
   "execution_count": 2,
   "id": "a5072abb",
   "metadata": {},
   "outputs": [],
   "source": [
    "# Strings (cadenas de texto)\n",
    "nombre = \"Ana\"\n",
    "apellido = 'García'      # Puedes usar comillas simples o dobles"
   ]
  },
  {
   "cell_type": "code",
   "execution_count": 3,
   "id": "2ec7338d",
   "metadata": {},
   "outputs": [],
   "source": [
    "# Booleanos\n",
    "es_estudiante = True\n",
    "tiene_mascota = False"
   ]
  },
  {
   "cell_type": "code",
   "execution_count": 4,
   "id": "ad25b081",
   "metadata": {},
   "outputs": [],
   "source": [
    "# Listas (pueden contener diferentes tipos de datos y son mutables)\n",
    "numeros = [1, 2, 3, 4, 5]\n",
    "datos_mixtos = [1, \"hola\", True, 3.14]"
   ]
  },
  {
   "cell_type": "code",
   "execution_count": 5,
   "id": "5bca3dfa",
   "metadata": {},
   "outputs": [],
   "source": [
    "# Tuplas (inmutables)\n",
    "coordenadas = (40.4168, -3.7038)"
   ]
  },
  {
   "cell_type": "code",
   "execution_count": 6,
   "id": "cbfec197",
   "metadata": {},
   "outputs": [],
   "source": [
    "# Diccionarios (pares clave-valor)\n",
    "persona = {\n",
    "    \"nombre\": \"Ana\",\n",
    "    \"edad\": 25,\n",
    "    \"ciudad\": \"Madrid\"\n",
    "}"
   ]
  },
  {
   "cell_type": "code",
   "execution_count": 7,
   "id": "9dfab69d",
   "metadata": {},
   "outputs": [
    {
     "name": "stdout",
     "output_type": "stream",
     "text": [
      "Tipo de 'edad': <class 'int'>\n",
      "Tipo de 'nombre': <class 'str'>\n",
      "Tipo de 'numeros': <class 'list'>\n",
      "Tipo de 'coordenadas': <class 'tuple'>\n",
      "Tipo de 'persona': <class 'dict'>\n"
     ]
    }
   ],
   "source": [
    "# Mostramos algunos ejemplos\n",
    "print(f\"Tipo de 'edad':\", type(edad))\n",
    "print(f\"Tipo de 'nombre':\", type(nombre))\n",
    "print(f\"Tipo de 'numeros':\", type(numeros))\n",
    "print(f\"Tipo de 'coordenadas':\", type(coordenadas))\n",
    "print(f\"Tipo de 'persona':\", type(persona))"
   ]
  },
  {
   "cell_type": "markdown",
   "id": "578b4fdf",
   "metadata": {},
   "source": [
    "# 2. Funciones\n",
    "\n",
    "Las funciones en Python son bloques de código reutilizable que realizan una tarea específica. Se definen usando la palabra clave `def`, seguida del nombre de la función y paréntesis que pueden contener parámetros.\n",
    "\n",
    "Características principales:\n",
    "- Pueden tener parámetros de entrada (opcionales)\n",
    "- Pueden devolver valores usando `return`\n",
    "- Pueden tener documentación (docstrings)\n",
    "- Pueden tener parámetros con valores por defecto\n",
    "\n",
    "Veamos algunos ejemplos:"
   ]
  },
  {
   "cell_type": "code",
   "execution_count": 8,
   "id": "8311f107",
   "metadata": {},
   "outputs": [
    {
     "name": "stdout",
     "output_type": "stream",
     "text": [
      "¡Hola, mundo!\n"
     ]
    }
   ],
   "source": [
    "# Función simple sin parámetros\n",
    "def saludar():\n",
    "    print(\"¡Hola, mundo!\")\n",
    "\n",
    "saludar()"
   ]
  },
  {
   "cell_type": "markdown",
   "id": "123e602b",
   "metadata": {},
   "source": [
    "Como veis, el resultado de la función que es retornado no se almacena en ningún lugar y Jupyter (el proceso que gestiona la interacción del notebook con el intérprete), decide imprimir ese último valor."
   ]
  },
  {
   "cell_type": "code",
   "execution_count": 9,
   "id": "dae87791",
   "metadata": {},
   "outputs": [],
   "source": [
    "# Función con parámetros\n",
    "def saludar_persona(nombre):\n",
    "    print(f\"¡Hola, {nombre}!\")"
   ]
  },
  {
   "cell_type": "markdown",
   "id": "76a41510",
   "metadata": {},
   "source": [
    "Cualquier definición, queda en la memoria del proceso y esto permite llamar a variables o funciones anteriormente declaradas."
   ]
  },
  {
   "cell_type": "code",
   "execution_count": 10,
   "id": "f7f081e7",
   "metadata": {},
   "outputs": [
    {
     "name": "stdout",
     "output_type": "stream",
     "text": [
      "¡Hola, Iraitz!\n"
     ]
    }
   ],
   "source": [
    "saludar_persona(\"Iraitz\")"
   ]
  },
  {
   "cell_type": "code",
   "execution_count": 11,
   "id": "177220df",
   "metadata": {},
   "outputs": [
    {
     "name": "stdout",
     "output_type": "stream",
     "text": [
      "La suma de 5 y 3 es: 8\n",
      "Perfil por defecto: {'nombre': 'Juan', 'edad': 25, 'ciudad': 'Madrid'}\n",
      "Perfil personalizado: {'nombre': 'Ana', 'edad': 30, 'ciudad': 'Barcelona'}\n",
      "Área del rectángulo: 15\n"
     ]
    }
   ],
   "source": [
    "# Función con valor de retorno\n",
    "def sumar(a, b):\n",
    "    return a + b\n",
    "\n",
    "# Función con parámetros por defecto\n",
    "def crear_perfil(nombre, edad=25, ciudad=\"Madrid\"):\n",
    "    return {\n",
    "        \"nombre\": nombre,\n",
    "        \"edad\": edad,\n",
    "        \"ciudad\": ciudad\n",
    "    }\n",
    "\n",
    "# Función con docstring\n",
    "def calcular_area_rectangulo(base, altura):\n",
    "    \"\"\"\n",
    "    Calcula el área de un rectángulo.\n",
    "    \n",
    "    Parámetros:\n",
    "        base (float): La base del rectángulo\n",
    "        altura (float): La altura del rectángulo\n",
    "    \n",
    "    Retorna:\n",
    "        float: El área del rectángulo\n",
    "    \"\"\"\n",
    "    return base * altura\n",
    "\n",
    "# Probemos las funciones\n",
    "print(f\"La suma de 5 y 3 es: {sumar(5, 3)}\")\n",
    "print(f\"Perfil por defecto: {crear_perfil('Juan')}\")\n",
    "print(f\"Perfil personalizado: {crear_perfil('Ana', edad=30, ciudad='Barcelona')}\")\n",
    "print(f\"Área del rectángulo: {calcular_area_rectangulo(5, 3)}\")"
   ]
  },
  {
   "cell_type": "markdown",
   "id": "a3bb4f47",
   "metadata": {},
   "source": [
    "Si desconocemos el funcionamiento de una función o clase, podemos recurrir a la función help."
   ]
  },
  {
   "cell_type": "code",
   "execution_count": 12,
   "id": "084e1dab",
   "metadata": {},
   "outputs": [
    {
     "name": "stdout",
     "output_type": "stream",
     "text": [
      "Help on function calcular_area_rectangulo in module __main__:\n",
      "\n",
      "calcular_area_rectangulo(base, altura)\n",
      "    Calcula el área de un rectángulo.\n",
      "\n",
      "    Parámetros:\n",
      "        base (float): La base del rectángulo\n",
      "        altura (float): La altura del rectángulo\n",
      "\n",
      "    Retorna:\n",
      "        float: El área del rectángulo\n",
      "\n"
     ]
    }
   ],
   "source": [
    "# Podemos ver la documentación de una función\n",
    "help(calcular_area_rectangulo)"
   ]
  },
  {
   "cell_type": "markdown",
   "id": "7de8fef4",
   "metadata": {},
   "source": [
    "# 3. Estructuras de Control de Flujo\n",
    "\n",
    "Python proporciona varias estructuras para controlar el flujo de ejecución de nuestro código:\n",
    "\n",
    "1. **Condicionales** (`if`, `elif`, `else`): Permiten ejecutar código basado en condiciones\n",
    "2. **Bucles**:\n",
    "   - `for`: Para iterar sobre secuencias (listas, tuplas, etc.)\n",
    "   - `while`: Para repetir código mientras una condición sea verdadera\n",
    "3. **Control de bucles**:\n",
    "   - `break`: Para salir de un bucle\n",
    "   - `continue`: Para saltar a la siguiente iteración\n",
    "   - `pass`: Para cuando necesitamos una declaración pero no queremos hacer nada\n",
    "\n",
    "Veamos ejemplos de cada uno:"
   ]
  },
  {
   "cell_type": "code",
   "execution_count": 13,
   "id": "577a5f43",
   "metadata": {},
   "outputs": [
    {
     "name": "stdout",
     "output_type": "stream",
     "text": [
      "Acabas de cumplir la mayoría de edad\n"
     ]
    }
   ],
   "source": [
    "# Ejemplo de condicionales\n",
    "edad = 18\n",
    "if edad < 18:\n",
    "    print(\"Eres menor de edad\")\n",
    "elif edad == 18:\n",
    "    print(\"Acabas de cumplir la mayoría de edad\")\n",
    "else:\n",
    "    print(\"Eres mayor de edad\")"
   ]
  },
  {
   "cell_type": "code",
   "execution_count": 14,
   "id": "8ba6c2be",
   "metadata": {},
   "outputs": [
    {
     "name": "stdout",
     "output_type": "stream",
     "text": [
      "\n",
      "Iterando sobre una lista:\n",
      "Me gusta la manzana\n",
      "Me gusta la plátano\n",
      "Me gusta la naranja\n"
     ]
    }
   ],
   "source": [
    "# Ejemplo de bucle for con una lista\n",
    "print(\"\\nIterando sobre una lista:\")\n",
    "frutas = [\"manzana\", \"plátano\", \"naranja\"]\n",
    "for fruta in frutas:\n",
    "    print(f\"Me gusta la {fruta}\")"
   ]
  },
  {
   "cell_type": "markdown",
   "id": "3603cbda",
   "metadata": {},
   "source": [
    "A diferencia del for, que itera para cada elemento, los bucles while requieren de una condición a cumplir para salir del bucle."
   ]
  },
  {
   "cell_type": "code",
   "execution_count": 16,
   "id": "3b3995fa",
   "metadata": {},
   "outputs": [
    {
     "name": "stdout",
     "output_type": "stream",
     "text": [
      "\n",
      "Bucle while:\n",
      "Contador: 0\n",
      "Contador: 1\n",
      "Contador: 2\n"
     ]
    }
   ],
   "source": [
    "# Ejemplo de while\n",
    "print(\"\\nBucle while:\")\n",
    "contador = 0\n",
    "while contador < 3:\n",
    "    print(f\"Contador: {contador}\")\n",
    "    contador += 1"
   ]
  },
  {
   "cell_type": "markdown",
   "id": "1cb5ffe4",
   "metadata": {},
   "source": [
    "Podemos alterar este flujo mediante las opciones `break` (cerrar el bucle) o `continue` saltar al siguiente ciclo de iteración."
   ]
  },
  {
   "cell_type": "code",
   "execution_count": 17,
   "id": "5db09d25",
   "metadata": {},
   "outputs": [
    {
     "name": "stdout",
     "output_type": "stream",
     "text": [
      "\n",
      "Usando break:\n",
      "0\n",
      "1\n",
      "2\n",
      "3\n",
      "4\n",
      "\n",
      "Usando continue:\n",
      "0\n",
      "1\n",
      "3\n",
      "4\n"
     ]
    }
   ],
   "source": [
    "# Ejemplo de break\n",
    "print(\"\\nUsando break:\")\n",
    "for i in range(10):\n",
    "    if i == 5:\n",
    "        break\n",
    "    print(i)\n",
    "\n",
    "# Ejemplo de continue\n",
    "print(\"\\nUsando continue:\")\n",
    "for i in range(5):\n",
    "    if i == 2:\n",
    "        continue\n",
    "    print(i)"
   ]
  },
  {
   "cell_type": "code",
   "execution_count": 19,
   "id": "a77f231e",
   "metadata": {},
   "outputs": [
    {
     "name": "stdout",
     "output_type": "stream",
     "text": [
      "\n",
      "Ejemplo combinado:\n",
      "\tLa suma de pares superó 10 (suma actual: 12)\n",
      "Suma final de pares: 12\n"
     ]
    }
   ],
   "source": [
    "# Ejemplo combinando diferentes estructuras\n",
    "print(\"\\nEjemplo combinado:\")\n",
    "numeros = [1, 2, 3, 4, 5, 6, 7, 8, 9, 10]\n",
    "suma_pares = 0\n",
    "\n",
    "for numero in numeros:\n",
    "    if numero % 2 != 0:\n",
    "        continue\n",
    "    suma_pares += numero\n",
    "    if suma_pares > 10:\n",
    "        print(f\"\\tLa suma de pares superó 10 (suma actual: {suma_pares})\")\n",
    "        break\n",
    "\n",
    "print(\"Suma final de pares:\", suma_pares)"
   ]
  },
  {
   "cell_type": "markdown",
   "id": "aadff31a",
   "metadata": {},
   "source": [
    "# 4. Estructuras de Datos en Python\n",
    "\n",
    "Python ofrece varias estructuras de datos incorporadas que son fundamentales para la programación. Las tres principales son:\n",
    "\n",
    "## 4.1 Listas\n",
    "- Colección ordenada y mutable de elementos\n",
    "- Se definen con corchetes `[]`\n",
    "- Pueden contener elementos de diferentes tipos\n",
    "- Permiten duplicados\n",
    "- Son indexables (acceso por posición)\n",
    "\n",
    "## 4.2 Tuplas\n",
    "- Colección ordenada e inmutable de elementos\n",
    "- Se definen con paréntesis `()`\n",
    "- Más eficientes que las listas en memoria\n",
    "- Útiles para datos que no deben cambiar\n",
    "\n",
    "## 4.3 Diccionarios\n",
    "- Colección de pares clave-valor\n",
    "- Se definen con llaves `{}`\n",
    "- Las claves deben ser únicas\n",
    "- Muy eficientes para búsquedas\n",
    "- No mantienen un orden (hasta Python 3.7)\n",
    "\n",
    "Veamos ejemplos detallados de cada uno:"
   ]
  },
  {
   "cell_type": "code",
   "execution_count": null,
   "id": "5a00b908",
   "metadata": {},
   "outputs": [],
   "source": [
    "# Crear listas\n",
    "numeros = [1, 2, 3, 4, 5]\n",
    "mixta = [1, \"hola\", 3.14, True]"
   ]
  },
  {
   "cell_type": "markdown",
   "id": "e892935e",
   "metadata": {},
   "source": [
    "Podemos acceder al elemento enésimo, indicando el número de su posición (iniciado por 0) o bien desde atrás empleando el signo negativo."
   ]
  },
  {
   "cell_type": "code",
   "execution_count": 20,
   "id": "1a6843e6",
   "metadata": {},
   "outputs": [
    {
     "name": "stdout",
     "output_type": "stream",
     "text": [
      "Primer elemento: 1\n",
      "Último elemento: 10\n"
     ]
    }
   ],
   "source": [
    "# Acceder a elementos\n",
    "print(\"Primer elemento:\", numeros[0])\n",
    "print(\"Último elemento:\", numeros[-1])"
   ]
  },
  {
   "cell_type": "markdown",
   "id": "ba76e822",
   "metadata": {},
   "source": [
    "Las listas pueden rebanarse por los índices marcados."
   ]
  },
  {
   "cell_type": "code",
   "execution_count": 21,
   "id": "5cd4e0d6",
   "metadata": {},
   "outputs": [
    {
     "name": "stdout",
     "output_type": "stream",
     "text": [
      "Primeros tres elementos: [1, 2, 3]\n",
      "Elementos del 2 al 4: [2, 3, 4]\n"
     ]
    }
   ],
   "source": [
    "# Slicing (rebanadas)\n",
    "print(\"Primeros tres elementos:\", numeros[:3])\n",
    "print(\"Elementos del 2 al 4:\", numeros[1:4])"
   ]
  },
  {
   "cell_type": "markdown",
   "id": "da7dea68",
   "metadata": {},
   "source": [
    "Y también podremos operar con funciones del propio atributo, ya que la lista es una clase, con sus funciones, que hemos instanciado con valores concretos."
   ]
  },
  {
   "cell_type": "code",
   "execution_count": 22,
   "id": "ec641549",
   "metadata": {},
   "outputs": [
    {
     "data": {
      "text/plain": [
       "list"
      ]
     },
     "execution_count": 22,
     "metadata": {},
     "output_type": "execute_result"
    }
   ],
   "source": [
    "type(numeros)"
   ]
  },
  {
   "cell_type": "code",
   "execution_count": 23,
   "id": "d9f4a1f0",
   "metadata": {},
   "outputs": [
    {
     "name": "stdout",
     "output_type": "stream",
     "text": [
      "Help on list object:\n",
      "\n",
      "class list(object)\n",
      " |  list(iterable=(), /)\n",
      " |\n",
      " |  Built-in mutable sequence.\n",
      " |\n",
      " |  If no argument is given, the constructor creates a new empty list.\n",
      " |  The argument must be an iterable if specified.\n",
      " |\n",
      " |  Methods defined here:\n",
      " |\n",
      " |  __add__(self, value, /)\n",
      " |      Return self+value.\n",
      " |\n",
      " |  __contains__(self, key, /)\n",
      " |      Return bool(key in self).\n",
      " |\n",
      " |  __delitem__(self, key, /)\n",
      " |      Delete self[key].\n",
      " |\n",
      " |  __eq__(self, value, /)\n",
      " |      Return self==value.\n",
      " |\n",
      " |  __ge__(self, value, /)\n",
      " |      Return self>=value.\n",
      " |\n",
      " |  __getattribute__(self, name, /)\n",
      " |      Return getattr(self, name).\n",
      " |\n",
      " |  __getitem__(self, index, /)\n",
      " |      Return self[index].\n",
      " |\n",
      " |  __gt__(self, value, /)\n",
      " |      Return self>value.\n",
      " |\n",
      " |  __iadd__(self, value, /)\n",
      " |      Implement self+=value.\n",
      " |\n",
      " |  __imul__(self, value, /)\n",
      " |      Implement self*=value.\n",
      " |\n",
      " |  __init__(self, /, *args, **kwargs)\n",
      " |      Initialize self.  See help(type(self)) for accurate signature.\n",
      " |\n",
      " |  __iter__(self, /)\n",
      " |      Implement iter(self).\n",
      " |\n",
      " |  __le__(self, value, /)\n",
      " |      Return self<=value.\n",
      " |\n",
      " |  __len__(self, /)\n",
      " |      Return len(self).\n",
      " |\n",
      " |  __lt__(self, value, /)\n",
      " |      Return self<value.\n",
      " |\n",
      " |  __mul__(self, value, /)\n",
      " |      Return self*value.\n",
      " |\n",
      " |  __ne__(self, value, /)\n",
      " |      Return self!=value.\n",
      " |\n",
      " |  __repr__(self, /)\n",
      " |      Return repr(self).\n",
      " |\n",
      " |  __reversed__(self, /)\n",
      " |      Return a reverse iterator over the list.\n",
      " |\n",
      " |  __rmul__(self, value, /)\n",
      " |      Return value*self.\n",
      " |\n",
      " |  __setitem__(self, key, value, /)\n",
      " |      Set self[key] to value.\n",
      " |\n",
      " |  __sizeof__(self, /)\n",
      " |      Return the size of the list in memory, in bytes.\n",
      " |\n",
      " |  append(self, object, /)\n",
      " |      Append object to the end of the list.\n",
      " |\n",
      " |  clear(self, /)\n",
      " |      Remove all items from list.\n",
      " |\n",
      " |  copy(self, /)\n",
      " |      Return a shallow copy of the list.\n",
      " |\n",
      " |  count(self, value, /)\n",
      " |      Return number of occurrences of value.\n",
      " |\n",
      " |  extend(self, iterable, /)\n",
      " |      Extend list by appending elements from the iterable.\n",
      " |\n",
      " |  index(self, value, start=0, stop=9223372036854775807, /)\n",
      " |      Return first index of value.\n",
      " |\n",
      " |      Raises ValueError if the value is not present.\n",
      " |\n",
      " |  insert(self, index, object, /)\n",
      " |      Insert object before index.\n",
      " |\n",
      " |  pop(self, index=-1, /)\n",
      " |      Remove and return item at index (default last).\n",
      " |\n",
      " |      Raises IndexError if list is empty or index is out of range.\n",
      " |\n",
      " |  remove(self, value, /)\n",
      " |      Remove first occurrence of value.\n",
      " |\n",
      " |      Raises ValueError if the value is not present.\n",
      " |\n",
      " |  reverse(self, /)\n",
      " |      Reverse *IN PLACE*.\n",
      " |\n",
      " |  sort(self, /, *, key=None, reverse=False)\n",
      " |      Sort the list in ascending order and return None.\n",
      " |\n",
      " |      The sort is in-place (i.e. the list itself is modified) and stable (i.e. the\n",
      " |      order of two equal elements is maintained).\n",
      " |\n",
      " |      If a key function is given, apply it once to each list item and sort them,\n",
      " |      ascending or descending, according to their function values.\n",
      " |\n",
      " |      The reverse flag can be set to sort in descending order.\n",
      " |\n",
      " |  ----------------------------------------------------------------------\n",
      " |  Class methods defined here:\n",
      " |\n",
      " |  __class_getitem__(...)\n",
      " |      See PEP 585\n",
      " |\n",
      " |  ----------------------------------------------------------------------\n",
      " |  Static methods defined here:\n",
      " |\n",
      " |  __new__(*args, **kwargs)\n",
      " |      Create and return a new object.  See help(type) for accurate signature.\n",
      " |\n",
      " |  ----------------------------------------------------------------------\n",
      " |  Data and other attributes defined here:\n",
      " |\n",
      " |  __hash__ = None\n",
      "\n"
     ]
    }
   ],
   "source": [
    "help(numeros)"
   ]
  },
  {
   "cell_type": "code",
   "execution_count": 24,
   "id": "bc37a20b",
   "metadata": {},
   "outputs": [
    {
     "name": "stdout",
     "output_type": "stream",
     "text": [
      "Después de append: [1, 2, 3, 4, 5, 6, 7, 8, 9, 10, 6]\n",
      "Después de insert: [0, 1, 2, 3, 4, 5, 6, 7, 8, 9, 10, 6]\n",
      "Después de remove: [0, 1, 2, 4, 5, 6, 7, 8, 9, 10, 6]\n",
      "Elemento eliminado: 6\n",
      "Después de pop: [0, 1, 2, 4, 5, 6, 7, 8, 9, 10]\n"
     ]
    }
   ],
   "source": [
    "# Métodos de listas\n",
    "numeros.append(6)        # Añadir al final\n",
    "print(\"Después de append:\", numeros)\n",
    "\n",
    "numeros.insert(0, 0)    # Insertar en posición específica\n",
    "print(\"Después de insert:\", numeros)\n",
    "\n",
    "numeros.remove(3)       # Eliminar por valor\n",
    "print(\"Después de remove:\", numeros)\n",
    "\n",
    "elemento = numeros.pop() # Eliminar y retornar último elemento\n",
    "print(\"Elemento eliminado:\", elemento)\n",
    "print(\"Después de pop:\", numeros)"
   ]
  },
  {
   "cell_type": "markdown",
   "id": "39249411",
   "metadata": {},
   "source": [
    "Los operadores, como el caso de la suma, pueden tener un funcionamiento distinto dependiendo del tipo de clase empleada."
   ]
  },
  {
   "cell_type": "code",
   "execution_count": 25,
   "id": "564c13bf",
   "metadata": {},
   "outputs": [
    {
     "name": "stdout",
     "output_type": "stream",
     "text": [
      "Listas concatenadas: [1, 2, 3, 4, 5, 6]\n"
     ]
    }
   ],
   "source": [
    "# Operaciones con listas\n",
    "lista1 = [1, 2, 3]\n",
    "lista2 = [4, 5, 6]\n",
    "concatenada = lista1 + lista2\n",
    "print(\"Listas concatenadas:\", concatenada)"
   ]
  },
  {
   "cell_type": "markdown",
   "id": "64713946",
   "metadata": {},
   "source": [
    "Python dispone una forma reducida de iterar propio del mismo lenguaje. Indicamos el objeto dependiendo de sus caracteres de inicio y fin ( `()` para tuple, `[]` para lista y `{}` para diccionario) y dentro definimos el bucle."
   ]
  },
  {
   "cell_type": "code",
   "execution_count": 26,
   "id": "e8cf0204",
   "metadata": {},
   "outputs": [
    {
     "name": "stdout",
     "output_type": "stream",
     "text": [
      "Cuadrados usando list comprehension: [0, 1, 4, 9, 16]\n"
     ]
    }
   ],
   "source": [
    "# List comprehension\n",
    "cuadrados = [x**2 for x in range(5)]\n",
    "print(\"Cuadrados usando list comprehension:\", cuadrados)"
   ]
  },
  {
   "cell_type": "markdown",
   "id": "cd02c482",
   "metadata": {},
   "source": [
    "Algo similar sucede con las tuplas."
   ]
  },
  {
   "cell_type": "code",
   "execution_count": 27,
   "id": "a8f43311",
   "metadata": {},
   "outputs": [],
   "source": [
    "# Crear tuplas\n",
    "coordenadas = (40.4168, -3.7038)\n",
    "persona = (\"Juan\", 25, \"Madrid\")\n",
    "tupla_simple = (1,)  # Tupla de un elemento (necesita la coma)"
   ]
  },
  {
   "cell_type": "code",
   "execution_count": 28,
   "id": "2056e338",
   "metadata": {},
   "outputs": [
    {
     "name": "stdout",
     "output_type": "stream",
     "text": [
      "Latitud: 40.4168\n",
      "Longitud: -3.7038\n"
     ]
    }
   ],
   "source": [
    "# Acceder a elementos\n",
    "print(\"Latitud:\", coordenadas[0])\n",
    "print(\"Longitud:\", coordenadas[1])"
   ]
  },
  {
   "cell_type": "code",
   "execution_count": 29,
   "id": "9d7e7f51",
   "metadata": {},
   "outputs": [
    {
     "name": "stdout",
     "output_type": "stream",
     "text": [
      "Nombre: Juan, Edad: 25, Ciudad: Madrid\n"
     ]
    }
   ],
   "source": [
    "# Desempaquetado de tuplas\n",
    "nombre, edad, ciudad = persona\n",
    "print(f\"Nombre: {nombre}, Edad: {edad}, Ciudad: {ciudad}\")"
   ]
  },
  {
   "cell_type": "code",
   "execution_count": 30,
   "id": "2a9f9794",
   "metadata": {},
   "outputs": [
    {
     "name": "stdout",
     "output_type": "stream",
     "text": [
      "Cantidad de 2s: 3\n",
      "Posición del primer 3: 3\n"
     ]
    }
   ],
   "source": [
    "# Métodos de tuplas\n",
    "numeros_tupla = (1, 2, 2, 3, 4, 2)\n",
    "print(\"Cantidad de 2s:\", numeros_tupla.count(2))\n",
    "print(\"Posición del primer 3:\", numeros_tupla.index(3))"
   ]
  },
  {
   "cell_type": "code",
   "execution_count": 31,
   "id": "964c0e2f",
   "metadata": {},
   "outputs": [
    {
     "name": "stdout",
     "output_type": "stream",
     "text": [
      "Resolución: 1920x1080\n"
     ]
    }
   ],
   "source": [
    "# Tuplas como retorno múltiple de funciones\n",
    "def obtener_dimensiones():\n",
    "    return (1920, 1080)\n",
    "\n",
    "ancho, alto = obtener_dimensiones()\n",
    "print(f\"Resolución: {ancho}x{alto}\")"
   ]
  },
  {
   "cell_type": "markdown",
   "id": "950d2600",
   "metadata": {},
   "source": [
    "En algunos casos necesitaremos cambiar el tipo para poder alterar los valores (no recomendable pero necesario en ocasiones)."
   ]
  },
  {
   "cell_type": "code",
   "execution_count": 32,
   "id": "943d5dfe",
   "metadata": {},
   "outputs": [
    {
     "name": "stdout",
     "output_type": "stream",
     "text": [
      "Lista desde tupla: [40.4168, -3.7038]\n",
      "Tupla desde lista: (40.4168, -3.7038)\n"
     ]
    }
   ],
   "source": [
    "# Conversión entre listas y tuplas\n",
    "lista = list(coordenadas)\n",
    "tupla = tuple(lista)\n",
    "print(\"Lista desde tupla:\", lista)\n",
    "print(\"Tupla desde lista:\", tupla)"
   ]
  },
  {
   "cell_type": "code",
   "execution_count": 33,
   "id": "cc88f914",
   "metadata": {},
   "outputs": [
    {
     "name": "stdout",
     "output_type": "stream",
     "text": [
      "Primer punto: (0, 0)\n",
      "Coordenada y del segundo punto: 1\n"
     ]
    }
   ],
   "source": [
    "# Tuplas anidadas\n",
    "punto3d = ((0, 0), (1, 1), (2, 2))\n",
    "print(\"Primer punto:\", punto3d[0])\n",
    "print(\"Coordenada y del segundo punto:\", punto3d[1][1])"
   ]
  },
  {
   "cell_type": "markdown",
   "id": "53bc6804",
   "metadata": {},
   "source": [
    "Y por último disponemos de diccionarios que son una clase muy empleada por permitirnos referenciar valores empleando texto (claves) en lugar de índices numéricos."
   ]
  },
  {
   "cell_type": "code",
   "execution_count": 34,
   "id": "63d282b1",
   "metadata": {},
   "outputs": [
    {
     "name": "stdout",
     "output_type": "stream",
     "text": [
      "Nombre: Ana\n",
      "Edad: 25\n",
      "Ocupación: No especificada\n"
     ]
    }
   ],
   "source": [
    "# Crear diccionarios\n",
    "persona = {\n",
    "    \"nombre\": \"Ana\",\n",
    "    \"edad\": 25,\n",
    "    \"ciudad\": \"Madrid\",\n",
    "    \"hobbies\": [\"lectura\", \"música\", \"viajes\"]\n",
    "}\n",
    "\n",
    "# Acceder a valores\n",
    "print(\"Nombre:\", persona[\"nombre\"])\n",
    "print(\"Edad:\", persona.get(\"edad\"))  # Método más seguro\n",
    "print(\"Ocupación:\", persona.get(\"ocupacion\", \"No especificada\"))  # Valor por defecto"
   ]
  },
  {
   "cell_type": "code",
   "execution_count": 35,
   "id": "647e6e8a",
   "metadata": {},
   "outputs": [
    {
     "name": "stdout",
     "output_type": "stream",
     "text": [
      "Diccionario actualizado: {'nombre': 'Ana', 'edad': 26, 'ciudad': 'Madrid', 'hobbies': ['lectura', 'música', 'viajes'], 'ocupacion': 'Programadora'}\n"
     ]
    }
   ],
   "source": [
    "# Modificar y añadir elementos\n",
    "persona[\"edad\"] = 26\n",
    "persona[\"ocupacion\"] = \"Programadora\"\n",
    "print(\"Diccionario actualizado:\", persona)"
   ]
  },
  {
   "cell_type": "code",
   "execution_count": 36,
   "id": "35b436d6",
   "metadata": {},
   "outputs": [
    {
     "name": "stdout",
     "output_type": "stream",
     "text": [
      "Ocupación eliminada: Programadora\n",
      "Diccionario después de eliminar: {'nombre': 'Ana', 'edad': 26, 'ciudad': 'Madrid'}\n"
     ]
    }
   ],
   "source": [
    "# Eliminar elementos\n",
    "del persona[\"hobbies\"]\n",
    "ocupacion = persona.pop(\"ocupacion\")\n",
    "print(\"Ocupación eliminada:\", ocupacion)\n",
    "print(\"Diccionario después de eliminar:\", persona)"
   ]
  },
  {
   "cell_type": "markdown",
   "id": "01d610fd",
   "metadata": {},
   "source": [
    "Los iteradores en estos casos requieren indicar si lo haremos sobre claves, valores o tuplas de ambos."
   ]
  },
  {
   "cell_type": "code",
   "execution_count": 37,
   "id": "66f646eb",
   "metadata": {},
   "outputs": [
    {
     "name": "stdout",
     "output_type": "stream",
     "text": [
      "Claves: ['nombre', 'edad', 'ciudad']\n",
      "Valores: ['Ana', 26, 'Madrid']\n",
      "Items: [('nombre', 'Ana'), ('edad', 26), ('ciudad', 'Madrid')]\n"
     ]
    }
   ],
   "source": [
    "# Métodos útiles de diccionarios\n",
    "print(\"Claves:\", list(persona.keys()))\n",
    "print(\"Valores:\", list(persona.values()))\n",
    "print(\"Items:\", list(persona.items()))"
   ]
  },
  {
   "cell_type": "code",
   "execution_count": 38,
   "id": "66eb774a",
   "metadata": {},
   "outputs": [
    {
     "name": "stdout",
     "output_type": "stream",
     "text": [
      "\n",
      "Iterando sobre el diccionario:\n",
      "nombre: Ana\n",
      "edad: 26\n",
      "ciudad: Madrid\n"
     ]
    }
   ],
   "source": [
    "# Iterar sobre diccionarios\n",
    "print(\"\\nIterando sobre el diccionario:\")\n",
    "for clave, valor in persona.items():\n",
    "    print(f\"{clave}: {valor}\")"
   ]
  },
  {
   "cell_type": "markdown",
   "id": "59a3b639",
   "metadata": {},
   "source": [
    "Son una de las estructuras más flexibles y expresivas y por eso se emplean tanto."
   ]
  },
  {
   "cell_type": "code",
   "execution_count": 39,
   "id": "0440e5fe",
   "metadata": {},
   "outputs": [
    {
     "name": "stdout",
     "output_type": "stream",
     "text": [
      "\n",
      "Renta de 2B: 950\n",
      "\n",
      "Diccionario de cuadrados: {0: 0, 1: 1, 2: 4, 3: 9, 4: 16}\n"
     ]
    }
   ],
   "source": [
    "# Diccionarios anidados\n",
    "edificio = {\n",
    "    \"piso_1\": {\n",
    "        \"apartamento_1A\": {\"inquilino\": \"Juan\", \"renta\": 800},\n",
    "        \"apartamento_1B\": {\"inquilino\": \"María\", \"renta\": 850}\n",
    "    },\n",
    "    \"piso_2\": {\n",
    "        \"apartamento_2A\": {\"inquilino\": \"Pedro\", \"renta\": 900},\n",
    "        \"apartamento_2B\": {\"inquilino\": \"Ana\", \"renta\": 950}\n",
    "    }\n",
    "}\n",
    "\n",
    "# Acceder a datos anidados\n",
    "print(\"\\nRenta de 2B:\", edificio[\"piso_2\"][\"apartamento_2B\"][\"renta\"])\n",
    "\n",
    "# Dictionary comprehension\n",
    "cuadrados = {x: x**2 for x in range(5)}\n",
    "print(\"\\nDiccionario de cuadrados:\", cuadrados)"
   ]
  },
  {
   "cell_type": "markdown",
   "id": "c154d00e",
   "metadata": {},
   "source": [
    "# 5. Clases y Programación Orientada a Objetos (POO)\n",
    "\n",
    "La Programación Orientada a Objetos es un paradigma de programación que organiza el código en objetos que contienen tanto datos como código. En Python, todo es un objeto, y las clases nos permiten crear nuestros propios tipos de objetos.\n",
    "\n",
    "Conceptos principales de POO:\n",
    "- **Clases**: Plantillas para crear objetos\n",
    "- **Objetos**: Instancias de una clase\n",
    "- **Atributos**: Datos/propiedades del objeto\n",
    "- **Métodos**: Funciones que pertenecen a la clase\n",
    "- **Herencia**: Capacidad de una clase de heredar atributos y métodos de otra\n",
    "- **Encapsulación**: Ocultar detalles internos y proteger datos\n",
    "\n",
    "Veamos algunos ejemplos:"
   ]
  },
  {
   "cell_type": "code",
   "execution_count": 40,
   "id": "99c5117c",
   "metadata": {},
   "outputs": [
    {
     "name": "stdout",
     "output_type": "stream",
     "text": [
      "¡Hola! Me llamo Ana y tengo 25 años.\n",
      "¡Hola! Me llamo Juan y tengo 30 años.\n"
     ]
    }
   ],
   "source": [
    "# Ejemplo básico de una clase\n",
    "class Persona:\n",
    "    def __init__(self, nombre, edad):\n",
    "        self.nombre = nombre\n",
    "        self.edad = edad\n",
    "    \n",
    "    def saludar(self):\n",
    "        return f\"¡Hola! Me llamo {self.nombre} y tengo {self.edad} años.\"\n",
    "\n",
    "# Crear instancias de la clase\n",
    "persona1 = Persona(\"Ana\", 25)\n",
    "persona2 = Persona(\"Juan\", 30)\n",
    "\n",
    "print(persona1.saludar())\n",
    "print(persona2.saludar())"
   ]
  },
  {
   "cell_type": "markdown",
   "id": "628b2747",
   "metadata": {},
   "source": [
    "El decorador `@property` en Python permite definir métodos en una clase que pueden ser accedidos como si fueran atributos, sin necesidad de usar paréntesis. Esto facilita el acceso controlado a valores internos (generalmente atributos privados), permitiendo encapsular la lógica de obtención o cálculo de un valor, y manteniendo una sintaxis sencilla para el usuario de la clase.\n",
    "\n",
    "Por ejemplo, en la clase `CuentaBancaria`, el método `saldo` está decorado con `@property`, lo que permite acceder al saldo de la cuenta como si fuera un atributo (`cuenta.saldo`), aunque internamente sea una función. Esto ayuda a proteger los datos y a mantener una interfaz clara y segura para el acceso a los atributos del objeto.\n",
    "\n",
    "**Ventajas de usar `@property`:**\n",
    "- Permite controlar la lectura (y escritura, si se define un setter) de atributos.\n",
    "- Facilita la validación o el cálculo dinámico de valores.\n",
    "- Mejora la encapsulación y el mantenimiento del código.\n",
    "- No cambia la forma en que se accede al atributo desde fuera de la clase."
   ]
  },
  {
   "cell_type": "code",
   "execution_count": 41,
   "id": "16c8e076",
   "metadata": {},
   "outputs": [
    {
     "name": "stdout",
     "output_type": "stream",
     "text": [
      "Saldo inicial: 1000€\n",
      "Depósito de 500€ realizado. Nuevo saldo: 1500€\n",
      "Retiro de 200€ realizado. Nuevo saldo: 1300€\n",
      "Saldo final: 1300€\n"
     ]
    }
   ],
   "source": [
    "# Ejemplo de clase con atributos privados y propiedades\n",
    "class CuentaBancaria:\n",
    "    def __init__(self, titular, saldo_inicial=0):\n",
    "        self.__titular = titular      # Atributo privado\n",
    "        self.__saldo = saldo_inicial  # Atributo privado\n",
    "    \n",
    "    @property\n",
    "    def saldo(self):\n",
    "        return self.__saldo\n",
    "    \n",
    "    def depositar(self, cantidad):\n",
    "        if cantidad > 0:\n",
    "            self.__saldo += cantidad\n",
    "            return f\"Depósito de {cantidad}€ realizado. Nuevo saldo: {self.__saldo}€\"\n",
    "        return \"La cantidad debe ser positiva\"\n",
    "    \n",
    "    def retirar(self, cantidad):\n",
    "        if cantidad > 0 and cantidad <= self.__saldo:\n",
    "            self.__saldo -= cantidad\n",
    "            return f\"Retiro de {cantidad}€ realizado. Nuevo saldo: {self.__saldo}€\"\n",
    "        return \"Fondos insuficientes o cantidad inválida\"\n",
    "\n",
    "# Usar la clase CuentaBancaria\n",
    "cuenta = CuentaBancaria(\"María\", 1000)\n",
    "print(f\"Saldo inicial: {cuenta.saldo}€\")\n",
    "print(cuenta.depositar(500))\n",
    "print(cuenta.retirar(200))\n",
    "print(f\"Saldo final: {cuenta.saldo}€\")"
   ]
  },
  {
   "cell_type": "markdown",
   "id": "7647fae1",
   "metadata": {},
   "source": [
    "Podemos heredar aspectos de otros lenguajes de cara a implementar estructuras y herencias complejas."
   ]
  },
  {
   "cell_type": "code",
   "execution_count": 42,
   "id": "7f2da9ff",
   "metadata": {},
   "outputs": [],
   "source": [
    "# Ejemplo de herencia y polimorfismo\n",
    "class Animal:\n",
    "    def __init__(self, nombre):\n",
    "        self.nombre = nombre\n",
    "    \n",
    "    def hacer_sonido(self):\n",
    "        return \"Algún sonido\"\n",
    "    \n",
    "    def presentarse(self):\n",
    "        return f\"Soy {self.nombre} y hago: {self.hacer_sonido()}\"\n",
    "\n",
    "class Perro(Animal):\n",
    "    def hacer_sonido(self):\n",
    "        return \"¡Guau!\"\n",
    "    \n",
    "    def jugar(self):\n",
    "        return f\"{self.nombre} está jugando con una pelota\"\n",
    "\n",
    "class Gato(Animal):\n",
    "    def hacer_sonido(self):\n",
    "        return \"¡Miau!\"\n",
    "    \n",
    "    def dormir(self):\n",
    "        return f\"{self.nombre} está durmiendo la siesta\"\n",
    "\n",
    "# Crear instancias de diferentes animales\n",
    "perro = Perro(\"Max\")\n",
    "gato = Gato(\"Luna\")"
   ]
  },
  {
   "cell_type": "code",
   "execution_count": 44,
   "id": "b113259b",
   "metadata": {},
   "outputs": [
    {
     "name": "stdout",
     "output_type": "stream",
     "text": [
      "Soy Max y hago: ¡Guau!\n",
      "Soy Luna y hago: ¡Miau!\n"
     ]
    }
   ],
   "source": [
    "# Demostrar polimorfismo\n",
    "print(perro.presentarse())\n",
    "print(gato.presentarse())"
   ]
  },
  {
   "cell_type": "code",
   "execution_count": 45,
   "id": "962423a4",
   "metadata": {},
   "outputs": [
    {
     "name": "stdout",
     "output_type": "stream",
     "text": [
      "Max está jugando con una pelota\n",
      "Luna está durmiendo la siesta\n"
     ]
    }
   ],
   "source": [
    "# Usar métodos específicos de cada clase\n",
    "print(perro.jugar())\n",
    "print(gato.dormir())"
   ]
  },
  {
   "cell_type": "code",
   "execution_count": 46,
   "id": "5d9250bb",
   "metadata": {},
   "outputs": [
    {
     "name": "stdout",
     "output_type": "stream",
     "text": [
      "\n",
      "Verificación de tipos:\n",
      "¿perro es un Animal? True\n",
      "¿perro es un Perro? True\n",
      "¿perro es un Gato? False\n",
      "Tipo de perro: Perro\n"
     ]
    }
   ],
   "source": [
    "# Demostrar isinstance y type\n",
    "print(f\"\\nVerificación de tipos:\")\n",
    "print(f\"¿perro es un Animal? {isinstance(perro, Animal)}\")\n",
    "print(f\"¿perro es un Perro? {isinstance(perro, Perro)}\")\n",
    "print(f\"¿perro es un Gato? {isinstance(perro, Gato)}\")\n",
    "print(f\"Tipo de perro: {type(perro).__name__}\")"
   ]
  }
 ],
 "metadata": {
  "kernelspec": {
   "display_name": "ds4b2b",
   "language": "python",
   "name": "python3"
  },
  "language_info": {
   "codemirror_mode": {
    "name": "ipython",
    "version": 3
   },
   "file_extension": ".py",
   "mimetype": "text/x-python",
   "name": "python",
   "nbconvert_exporter": "python",
   "pygments_lexer": "ipython3",
   "version": "3.12.7"
  }
 },
 "nbformat": 4,
 "nbformat_minor": 5
}
