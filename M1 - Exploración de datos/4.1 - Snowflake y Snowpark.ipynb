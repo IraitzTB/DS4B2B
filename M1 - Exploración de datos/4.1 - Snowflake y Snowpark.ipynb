{
 "cells": [
  {
   "cell_type": "markdown",
   "metadata": {},
   "source": [
    "# Snowflake\n",
    "\n",
    "Existen alternativas multinube de cara a no ligarse a un proveedor de por vida. [Snowflake](https://www.snowflake.com/es/) es sin duda el líder en este ámbito en lo que a sistemas RDBMS destinados a analítica se refiere. Su versión de prueba nos permite crear un entorno válido por un mes e interactuar con este como si de una base de datos convencional se tratara.\n",
    "\n",
    "[Crear cuenta de prueba](https://signup.snowflake.com/)\n",
    "\n",
    "Una vez dispongáis de los datos para conectaros solo tendréis que configurar el acceso programático. Snowflake dispone de un conector propio que debería facilitarnos la tareas. Además es compatible con [Pandas](https://quickstarts.snowflake.com/guide/getting_started_with_snowpark_pandas/index.html#0)."
   ]
  },
  {
   "cell_type": "markdown",
   "metadata": {},
   "source": [
    "### Variables de entorno\n",
    "\n",
    "Podemos registrar las credenciales de conexión en un fichero _.env_ y cargar en tiempo de ejecución las variables de entorno para evitar exponer nuestras credenciales cuando versionemos el código.\n",
    "\n",
    "Para ello es necesario que el fichero contenga los datos:\n",
    "```\n",
    "SNOWFLAKE_USER=<user_name>\n",
    "SNOWFLAKE_PASS=<password>\n",
    "SNOWFLAKE_ACCOUNT=<account>\n",
    "```"
   ]
  },
  {
   "cell_type": "code",
   "execution_count": null,
   "metadata": {},
   "outputs": [],
   "source": [
    "from dotenv import load_dotenv\n",
    "\n",
    "load_dotenv(override=True)"
   ]
  },
  {
   "cell_type": "markdown",
   "metadata": {},
   "source": [
    "Asi simplemente podemos recurrir a las variables de entorno en tiempo de ejecución."
   ]
  },
  {
   "cell_type": "code",
   "execution_count": null,
   "metadata": {},
   "outputs": [],
   "source": [
    "import os\n",
    "import snowflake.connector\n",
    "\n",
    "con = snowflake.connector.connect(\n",
    "    user=os.getenv(\"SNOWFLAKE_USER\"),\n",
    "    password=os.getenv(\"SNOWFLAKE_PASS\"),\n",
    "    account=os.getenv(\"SNOWFLAKE_ACCOUNT\"),\n",
    "    database=\"SNOWFLAKE_SAMPLE_DATA\"\n",
    ")"
   ]
  },
  {
   "cell_type": "code",
   "execution_count": 2,
   "metadata": {},
   "outputs": [
    {
     "name": "stderr",
     "output_type": "stream",
     "text": [
      "/tmp/ipykernel_10982/957583243.py:3: UserWarning: pandas only supports SQLAlchemy connectable (engine/connection) or database string URI or sqlite3 DBAPI2 connection. Other DBAPI2 objects are not tested. Please consider using SQLAlchemy.\n",
      "  customers = pd.read_sql_query(\"SELECT * FROM TPCH_SF10.CUSTOMER\", con=con)\n"
     ]
    },
    {
     "data": {
      "text/html": [
       "<div>\n",
       "<style scoped>\n",
       "    .dataframe tbody tr th:only-of-type {\n",
       "        vertical-align: middle;\n",
       "    }\n",
       "\n",
       "    .dataframe tbody tr th {\n",
       "        vertical-align: top;\n",
       "    }\n",
       "\n",
       "    .dataframe thead th {\n",
       "        text-align: right;\n",
       "    }\n",
       "</style>\n",
       "<table border=\"1\" class=\"dataframe\">\n",
       "  <thead>\n",
       "    <tr style=\"text-align: right;\">\n",
       "      <th></th>\n",
       "      <th>C_CUSTKEY</th>\n",
       "      <th>C_NAME</th>\n",
       "      <th>C_ADDRESS</th>\n",
       "      <th>C_NATIONKEY</th>\n",
       "      <th>C_PHONE</th>\n",
       "      <th>C_ACCTBAL</th>\n",
       "      <th>C_MKTSEGMENT</th>\n",
       "      <th>C_COMMENT</th>\n",
       "    </tr>\n",
       "  </thead>\n",
       "  <tbody>\n",
       "    <tr>\n",
       "      <th>0</th>\n",
       "      <td>285001</td>\n",
       "      <td>Customer#000285001</td>\n",
       "      <td>4FeDDwg7xsqSVT</td>\n",
       "      <td>15</td>\n",
       "      <td>25-854-361-6981</td>\n",
       "      <td>3057.88</td>\n",
       "      <td>MACHINERY</td>\n",
       "      <td>ve the regular, pending packages affix caref</td>\n",
       "    </tr>\n",
       "    <tr>\n",
       "      <th>1</th>\n",
       "      <td>285002</td>\n",
       "      <td>Customer#000285002</td>\n",
       "      <td>UbQAgu44NZOvMadwuhc8IKs1fYIMz5ZNmlRYzyl</td>\n",
       "      <td>11</td>\n",
       "      <td>21-625-459-4267</td>\n",
       "      <td>-190.59</td>\n",
       "      <td>MACHINERY</td>\n",
       "      <td>ress deposits. furiously even packages sleep c...</td>\n",
       "    </tr>\n",
       "    <tr>\n",
       "      <th>2</th>\n",
       "      <td>285003</td>\n",
       "      <td>Customer#000285003</td>\n",
       "      <td>Mug,CjxX0lpHalGRJeG3RCGEdCJFZXAYQ6IvlW4</td>\n",
       "      <td>12</td>\n",
       "      <td>22-998-713-3526</td>\n",
       "      <td>6636.14</td>\n",
       "      <td>AUTOMOBILE</td>\n",
       "      <td>ideas. regular, special platelets nag furiously</td>\n",
       "    </tr>\n",
       "    <tr>\n",
       "      <th>3</th>\n",
       "      <td>285004</td>\n",
       "      <td>Customer#000285004</td>\n",
       "      <td>rQ4SNwFDmtrNKgzwlxQ219j5Qef A</td>\n",
       "      <td>3</td>\n",
       "      <td>13-245-434-3165</td>\n",
       "      <td>2607.20</td>\n",
       "      <td>BUILDING</td>\n",
       "      <td>nal ideas. requests across the regular deposit...</td>\n",
       "    </tr>\n",
       "  </tbody>\n",
       "</table>\n",
       "</div>"
      ],
      "text/plain": [
       "   C_CUSTKEY              C_NAME                                C_ADDRESS  \\\n",
       "0     285001  Customer#000285001                           4FeDDwg7xsqSVT   \n",
       "1     285002  Customer#000285002  UbQAgu44NZOvMadwuhc8IKs1fYIMz5ZNmlRYzyl   \n",
       "2     285003  Customer#000285003  Mug,CjxX0lpHalGRJeG3RCGEdCJFZXAYQ6IvlW4   \n",
       "3     285004  Customer#000285004            rQ4SNwFDmtrNKgzwlxQ219j5Qef A   \n",
       "\n",
       "   C_NATIONKEY          C_PHONE  C_ACCTBAL C_MKTSEGMENT  \\\n",
       "0           15  25-854-361-6981    3057.88    MACHINERY   \n",
       "1           11  21-625-459-4267    -190.59    MACHINERY   \n",
       "2           12  22-998-713-3526    6636.14   AUTOMOBILE   \n",
       "3            3  13-245-434-3165    2607.20     BUILDING   \n",
       "\n",
       "                                           C_COMMENT  \n",
       "0       ve the regular, pending packages affix caref  \n",
       "1  ress deposits. furiously even packages sleep c...  \n",
       "2   ideas. regular, special platelets nag furiously   \n",
       "3  nal ideas. requests across the regular deposit...  "
      ]
     },
     "execution_count": 2,
     "metadata": {},
     "output_type": "execute_result"
    }
   ],
   "source": [
    "import pandas as pd\n",
    "\n",
    "customers = pd.read_sql_query(\"SELECT * FROM TPCH_SF10.CUSTOMER\", con=con)\n",
    "customers.head(4)"
   ]
  },
  {
   "cell_type": "markdown",
   "metadata": {},
   "source": [
    "Tenéis más información sobre el conjunto de datos [aquí](https://docs.snowflake.com/en/user-guide/sample-data-tpch). Es importante conocer las limitaciones de nuestro sistema ya que podemos tener problemas con el tamaño de algunas tablas.\n",
    "\n",
    "```python\n",
    "orders = pd.read_sql_query(\"SELECT * FROM TPCH_SF1000.ORDERS\", con=con)\n",
    "orders.head(4)\n",
    "```"
   ]
  },
  {
   "cell_type": "markdown",
   "metadata": {},
   "source": [
    "# Abstracciones DataFrames\n",
    "\n",
    "Existen soluciones que nos permiten interactuar empleando las APIs conocidas (Pandas) pero impactando directamente sobre la base de datos con queries. Hay que prestar atención porque las consultas no se lanzan hasta que se requiere pintar los resultados (`.show()`, `.collect()`, `.to_pandas()`)"
   ]
  },
  {
   "cell_type": "code",
   "execution_count": null,
   "metadata": {},
   "outputs": [],
   "source": [
    "from snowflake.snowpark import Session\n",
    "\n",
    "connection_parameters = {\n",
    "    \"account\": os.getenv(\"SNOWFLAKE_ACCOUNT\"),\n",
    "    \"user\": os.getenv(\"SNOWFLAKE_USER\"),\n",
    "    \"password\": os.getenv(\"SNOWFLAKE_PASS\"),\n",
    "    \"database\" : \"SNOWFLAKE_SAMPLE_DATA\"\n",
    "}  \n",
    "\n",
    "new_session = Session.builder.configs(connection_parameters).create()  "
   ]
  },
  {
   "cell_type": "markdown",
   "metadata": {},
   "source": [
    "Una vez iniciada la sesión podemos vincular variables locales a tablas en la base de datos."
   ]
  },
  {
   "cell_type": "code",
   "execution_count": 12,
   "metadata": {},
   "outputs": [],
   "source": [
    "df_region = new_session.table(\"TPCH_SF1.region\")"
   ]
  },
  {
   "cell_type": "markdown",
   "metadata": {},
   "source": [
    "Unicamente registra el nexo entre la variable y la tabla, de manera que si quisiéramos obtener esos datos dispondríamos de la consulta que los muestra."
   ]
  },
  {
   "cell_type": "code",
   "execution_count": 13,
   "metadata": {},
   "outputs": [
    {
     "data": {
      "text/plain": [
       "{'queries': ['SELECT  *  FROM (TPCH_SF1.region)'], 'post_actions': []}"
      ]
     },
     "execution_count": 13,
     "metadata": {},
     "output_type": "execute_result"
    }
   ],
   "source": [
    "df_region.queries"
   ]
  },
  {
   "cell_type": "markdown",
   "metadata": {},
   "source": [
    "`.show` lanza la consulta y nos muestra los 10 elementos iniciales de la tabla."
   ]
  },
  {
   "cell_type": "code",
   "execution_count": 15,
   "metadata": {},
   "outputs": [
    {
     "name": "stdout",
     "output_type": "stream",
     "text": [
      "------------------------------------------------------------------------------------\n",
      "|\"R_REGIONKEY\"  |\"R_NAME\"     |\"R_COMMENT\"                                         |\n",
      "------------------------------------------------------------------------------------\n",
      "|0              |AFRICA       |lar deposits. blithely final packages cajole. r...  |\n",
      "|1              |AMERICA      |hs use ironic, even requests. s                     |\n",
      "|2              |ASIA         |ges. thinly even pinto beans ca                     |\n",
      "|3              |EUROPE       |ly final courts cajole furiously final excuse       |\n",
      "|4              |MIDDLE EAST  |uickly special accounts cajole carefully blithe...  |\n",
      "------------------------------------------------------------------------------------\n",
      "\n"
     ]
    }
   ],
   "source": [
    "df_region.show(10)"
   ]
  },
  {
   "cell_type": "markdown",
   "metadata": {},
   "source": [
    "Mientras que `.to_pandas`retorna los datos a un objeto pandas en nuestra máquina."
   ]
  },
  {
   "cell_type": "code",
   "execution_count": 16,
   "metadata": {},
   "outputs": [
    {
     "data": {
      "text/html": [
       "<div>\n",
       "<style scoped>\n",
       "    .dataframe tbody tr th:only-of-type {\n",
       "        vertical-align: middle;\n",
       "    }\n",
       "\n",
       "    .dataframe tbody tr th {\n",
       "        vertical-align: top;\n",
       "    }\n",
       "\n",
       "    .dataframe thead th {\n",
       "        text-align: right;\n",
       "    }\n",
       "</style>\n",
       "<table border=\"1\" class=\"dataframe\">\n",
       "  <thead>\n",
       "    <tr style=\"text-align: right;\">\n",
       "      <th></th>\n",
       "      <th>R_REGIONKEY</th>\n",
       "      <th>R_NAME</th>\n",
       "      <th>R_COMMENT</th>\n",
       "    </tr>\n",
       "  </thead>\n",
       "  <tbody>\n",
       "    <tr>\n",
       "      <th>0</th>\n",
       "      <td>0</td>\n",
       "      <td>AFRICA</td>\n",
       "      <td>lar deposits. blithely final packages cajole. ...</td>\n",
       "    </tr>\n",
       "    <tr>\n",
       "      <th>1</th>\n",
       "      <td>1</td>\n",
       "      <td>AMERICA</td>\n",
       "      <td>hs use ironic, even requests. s</td>\n",
       "    </tr>\n",
       "    <tr>\n",
       "      <th>2</th>\n",
       "      <td>2</td>\n",
       "      <td>ASIA</td>\n",
       "      <td>ges. thinly even pinto beans ca</td>\n",
       "    </tr>\n",
       "    <tr>\n",
       "      <th>3</th>\n",
       "      <td>3</td>\n",
       "      <td>EUROPE</td>\n",
       "      <td>ly final courts cajole furiously final excuse</td>\n",
       "    </tr>\n",
       "    <tr>\n",
       "      <th>4</th>\n",
       "      <td>4</td>\n",
       "      <td>MIDDLE EAST</td>\n",
       "      <td>uickly special accounts cajole carefully blith...</td>\n",
       "    </tr>\n",
       "  </tbody>\n",
       "</table>\n",
       "</div>"
      ],
      "text/plain": [
       "   R_REGIONKEY       R_NAME                                          R_COMMENT\n",
       "0            0       AFRICA  lar deposits. blithely final packages cajole. ...\n",
       "1            1      AMERICA                    hs use ironic, even requests. s\n",
       "2            2         ASIA                    ges. thinly even pinto beans ca\n",
       "3            3       EUROPE      ly final courts cajole furiously final excuse\n",
       "4            4  MIDDLE EAST  uickly special accounts cajole carefully blith..."
      ]
     },
     "execution_count": 16,
     "metadata": {},
     "output_type": "execute_result"
    }
   ],
   "source": [
    "df_region.to_pandas()"
   ]
  },
  {
   "cell_type": "markdown",
   "metadata": {},
   "source": [
    "Podemos generar abstracciones mayores, por ejemplo tablas que sean joins de varias."
   ]
  },
  {
   "cell_type": "code",
   "execution_count": 17,
   "metadata": {},
   "outputs": [],
   "source": [
    "df_nation = new_session.table(\"TPCH_SF1.nation\")"
   ]
  },
  {
   "cell_type": "code",
   "execution_count": 19,
   "metadata": {},
   "outputs": [
    {
     "data": {
      "text/plain": [
       "{'queries': ['SELECT  *  FROM (( SELECT \"N_NATIONKEY\" AS \"N_NATIONKEY\", \"N_NAME\" AS \"N_NAME\", \"N_REGIONKEY\" AS \"N_REGIONKEY\", \"N_COMMENT\" AS \"N_COMMENT\" FROM TPCH_SF1.nation) AS SNOWPARK_LEFT INNER JOIN ( SELECT \"R_REGIONKEY\" AS \"R_REGIONKEY\", \"R_NAME\" AS \"R_NAME\", \"R_COMMENT\" AS \"R_COMMENT\" FROM TPCH_SF1.region) AS SNOWPARK_RIGHT)'],\n",
       " 'post_actions': []}"
      ]
     },
     "execution_count": 19,
     "metadata": {},
     "output_type": "execute_result"
    }
   ],
   "source": [
    "df_nation_region = df_nation.join(df_region, \"R_REGIONKEY\" == \"N_REGIONKEY\")\n",
    "df_nation_region.queries"
   ]
  },
  {
   "cell_type": "markdown",
   "metadata": {},
   "source": [
    "Una vez requerimos una acción es cuando se lanza la consulta construida."
   ]
  },
  {
   "cell_type": "code",
   "execution_count": 20,
   "metadata": {},
   "outputs": [
    {
     "name": "stdout",
     "output_type": "stream",
     "text": [
      "-------------------------------------------------------------------------------------------------------------------------------------------------------------------------------------\n",
      "|\"N_NATIONKEY\"  |\"N_NAME\"   |\"N_REGIONKEY\"  |\"N_COMMENT\"                                         |\"R_REGIONKEY\"  |\"R_NAME\"     |\"R_COMMENT\"                                         |\n",
      "-------------------------------------------------------------------------------------------------------------------------------------------------------------------------------------\n",
      "|0              |ALGERIA    |0              | haggle. carefully final deposits detect slyly ...  |0              |AFRICA       |lar deposits. blithely final packages cajole. r...  |\n",
      "|0              |ALGERIA    |0              | haggle. carefully final deposits detect slyly ...  |1              |AMERICA      |hs use ironic, even requests. s                     |\n",
      "|0              |ALGERIA    |0              | haggle. carefully final deposits detect slyly ...  |2              |ASIA         |ges. thinly even pinto beans ca                     |\n",
      "|0              |ALGERIA    |0              | haggle. carefully final deposits detect slyly ...  |3              |EUROPE       |ly final courts cajole furiously final excuse       |\n",
      "|0              |ALGERIA    |0              | haggle. carefully final deposits detect slyly ...  |4              |MIDDLE EAST  |uickly special accounts cajole carefully blithe...  |\n",
      "|1              |ARGENTINA  |1              |al foxes promise slyly according to the regular...  |0              |AFRICA       |lar deposits. blithely final packages cajole. r...  |\n",
      "|1              |ARGENTINA  |1              |al foxes promise slyly according to the regular...  |1              |AMERICA      |hs use ironic, even requests. s                     |\n",
      "|1              |ARGENTINA  |1              |al foxes promise slyly according to the regular...  |2              |ASIA         |ges. thinly even pinto beans ca                     |\n",
      "|1              |ARGENTINA  |1              |al foxes promise slyly according to the regular...  |3              |EUROPE       |ly final courts cajole furiously final excuse       |\n",
      "|1              |ARGENTINA  |1              |al foxes promise slyly according to the regular...  |4              |MIDDLE EAST  |uickly special accounts cajole carefully blithe...  |\n",
      "-------------------------------------------------------------------------------------------------------------------------------------------------------------------------------------\n",
      "\n"
     ]
    }
   ],
   "source": [
    "df_nation_region.show(10)"
   ]
  },
  {
   "cell_type": "markdown",
   "metadata": {},
   "source": [
    "Podemos anidar filtros y agregaciones y únicamente al incluir la acción final es cuando se lanzarán las consultas."
   ]
  },
  {
   "cell_type": "code",
   "execution_count": 27,
   "metadata": {},
   "outputs": [],
   "source": [
    "from snowflake.snowpark.functions import col\n",
    "\n",
    "df_filtrado_algeria = df_nation_region.filter(col(\"N_NAME\") == \"ALGERIA\")"
   ]
  },
  {
   "cell_type": "code",
   "execution_count": 28,
   "metadata": {},
   "outputs": [
    {
     "data": {
      "text/plain": [
       "<snowflake.snowpark.dataframe.DataFrame at 0x77dac8a91c60>"
      ]
     },
     "execution_count": 28,
     "metadata": {},
     "output_type": "execute_result"
    }
   ],
   "source": [
    "df_filtrado_algeria"
   ]
  },
  {
   "cell_type": "code",
   "execution_count": 29,
   "metadata": {},
   "outputs": [
    {
     "data": {
      "text/plain": [
       "{'queries': ['SELECT  *  FROM ( SELECT  *  FROM (( SELECT \"N_NATIONKEY\" AS \"N_NATIONKEY\", \"N_NAME\" AS \"N_NAME\", \"N_REGIONKEY\" AS \"N_REGIONKEY\", \"N_COMMENT\" AS \"N_COMMENT\" FROM TPCH_SF1.nation) AS SNOWPARK_LEFT INNER JOIN ( SELECT \"R_REGIONKEY\" AS \"R_REGIONKEY\", \"R_NAME\" AS \"R_NAME\", \"R_COMMENT\" AS \"R_COMMENT\" FROM TPCH_SF1.region) AS SNOWPARK_RIGHT)) WHERE (\"N_NAME\" = \\'ALGERIA\\')'],\n",
       " 'post_actions': []}"
      ]
     },
     "execution_count": 29,
     "metadata": {},
     "output_type": "execute_result"
    }
   ],
   "source": [
    "df_filtrado_algeria.queries"
   ]
  },
  {
   "cell_type": "code",
   "execution_count": 30,
   "metadata": {},
   "outputs": [
    {
     "data": {
      "text/html": [
       "<div>\n",
       "<style scoped>\n",
       "    .dataframe tbody tr th:only-of-type {\n",
       "        vertical-align: middle;\n",
       "    }\n",
       "\n",
       "    .dataframe tbody tr th {\n",
       "        vertical-align: top;\n",
       "    }\n",
       "\n",
       "    .dataframe thead th {\n",
       "        text-align: right;\n",
       "    }\n",
       "</style>\n",
       "<table border=\"1\" class=\"dataframe\">\n",
       "  <thead>\n",
       "    <tr style=\"text-align: right;\">\n",
       "      <th></th>\n",
       "      <th>N_NATIONKEY</th>\n",
       "      <th>N_NAME</th>\n",
       "      <th>N_REGIONKEY</th>\n",
       "      <th>N_COMMENT</th>\n",
       "      <th>R_REGIONKEY</th>\n",
       "      <th>R_NAME</th>\n",
       "      <th>R_COMMENT</th>\n",
       "    </tr>\n",
       "  </thead>\n",
       "  <tbody>\n",
       "    <tr>\n",
       "      <th>0</th>\n",
       "      <td>0</td>\n",
       "      <td>ALGERIA</td>\n",
       "      <td>0</td>\n",
       "      <td>haggle. carefully final deposits detect slyly...</td>\n",
       "      <td>0</td>\n",
       "      <td>AFRICA</td>\n",
       "      <td>lar deposits. blithely final packages cajole. ...</td>\n",
       "    </tr>\n",
       "    <tr>\n",
       "      <th>1</th>\n",
       "      <td>0</td>\n",
       "      <td>ALGERIA</td>\n",
       "      <td>0</td>\n",
       "      <td>haggle. carefully final deposits detect slyly...</td>\n",
       "      <td>1</td>\n",
       "      <td>AMERICA</td>\n",
       "      <td>hs use ironic, even requests. s</td>\n",
       "    </tr>\n",
       "    <tr>\n",
       "      <th>2</th>\n",
       "      <td>0</td>\n",
       "      <td>ALGERIA</td>\n",
       "      <td>0</td>\n",
       "      <td>haggle. carefully final deposits detect slyly...</td>\n",
       "      <td>2</td>\n",
       "      <td>ASIA</td>\n",
       "      <td>ges. thinly even pinto beans ca</td>\n",
       "    </tr>\n",
       "    <tr>\n",
       "      <th>3</th>\n",
       "      <td>0</td>\n",
       "      <td>ALGERIA</td>\n",
       "      <td>0</td>\n",
       "      <td>haggle. carefully final deposits detect slyly...</td>\n",
       "      <td>3</td>\n",
       "      <td>EUROPE</td>\n",
       "      <td>ly final courts cajole furiously final excuse</td>\n",
       "    </tr>\n",
       "    <tr>\n",
       "      <th>4</th>\n",
       "      <td>0</td>\n",
       "      <td>ALGERIA</td>\n",
       "      <td>0</td>\n",
       "      <td>haggle. carefully final deposits detect slyly...</td>\n",
       "      <td>4</td>\n",
       "      <td>MIDDLE EAST</td>\n",
       "      <td>uickly special accounts cajole carefully blith...</td>\n",
       "    </tr>\n",
       "  </tbody>\n",
       "</table>\n",
       "</div>"
      ],
      "text/plain": [
       "   N_NATIONKEY   N_NAME  N_REGIONKEY  \\\n",
       "0            0  ALGERIA            0   \n",
       "1            0  ALGERIA            0   \n",
       "2            0  ALGERIA            0   \n",
       "3            0  ALGERIA            0   \n",
       "4            0  ALGERIA            0   \n",
       "\n",
       "                                           N_COMMENT  R_REGIONKEY  \\\n",
       "0   haggle. carefully final deposits detect slyly...            0   \n",
       "1   haggle. carefully final deposits detect slyly...            1   \n",
       "2   haggle. carefully final deposits detect slyly...            2   \n",
       "3   haggle. carefully final deposits detect slyly...            3   \n",
       "4   haggle. carefully final deposits detect slyly...            4   \n",
       "\n",
       "        R_NAME                                          R_COMMENT  \n",
       "0       AFRICA  lar deposits. blithely final packages cajole. ...  \n",
       "1      AMERICA                    hs use ironic, even requests. s  \n",
       "2         ASIA                    ges. thinly even pinto beans ca  \n",
       "3       EUROPE      ly final courts cajole furiously final excuse  \n",
       "4  MIDDLE EAST  uickly special accounts cajole carefully blith...  "
      ]
     },
     "execution_count": 30,
     "metadata": {},
     "output_type": "execute_result"
    }
   ],
   "source": [
    "df_filtrado_algeria.to_pandas()"
   ]
  },
  {
   "cell_type": "code",
   "execution_count": 24,
   "metadata": {},
   "outputs": [
    {
     "data": {
      "text/plain": [
       "<snowflake.snowpark.dataframe.DataFrame at 0x77dac8a91f60>"
      ]
     },
     "execution_count": 24,
     "metadata": {},
     "output_type": "execute_result"
    }
   ],
   "source": [
    "df_nation_region.group_by(\"N_NAME\").count()"
   ]
  },
  {
   "cell_type": "code",
   "execution_count": 25,
   "metadata": {},
   "outputs": [
    {
     "data": {
      "text/plain": [
       "{'queries': ['SELECT \"N_NAME\", count(1) AS \"COUNT\" FROM ( SELECT  *  FROM (( SELECT \"N_NATIONKEY\" AS \"N_NATIONKEY\", \"N_NAME\" AS \"N_NAME\", \"N_REGIONKEY\" AS \"N_REGIONKEY\", \"N_COMMENT\" AS \"N_COMMENT\" FROM TPCH_SF1.nation) AS SNOWPARK_LEFT INNER JOIN ( SELECT \"R_REGIONKEY\" AS \"R_REGIONKEY\", \"R_NAME\" AS \"R_NAME\", \"R_COMMENT\" AS \"R_COMMENT\" FROM TPCH_SF1.region) AS SNOWPARK_RIGHT)) GROUP BY \"N_NAME\"'],\n",
       " 'post_actions': []}"
      ]
     },
     "execution_count": 25,
     "metadata": {},
     "output_type": "execute_result"
    }
   ],
   "source": [
    "df_nation_region.group_by(\"N_NAME\").count().queries"
   ]
  },
  {
   "cell_type": "code",
   "execution_count": 26,
   "metadata": {},
   "outputs": [
    {
     "name": "stdout",
     "output_type": "stream",
     "text": [
      "------------------------\n",
      "|\"N_NAME\"    |\"COUNT\"  |\n",
      "------------------------\n",
      "|ALGERIA     |5        |\n",
      "|ARGENTINA   |5        |\n",
      "|BRAZIL      |5        |\n",
      "|CANADA      |5        |\n",
      "|ETHIOPIA    |5        |\n",
      "|GERMANY     |5        |\n",
      "|INDIA       |5        |\n",
      "|IRAN        |5        |\n",
      "|IRAQ        |5        |\n",
      "|MOZAMBIQUE  |5        |\n",
      "------------------------\n",
      "\n"
     ]
    }
   ],
   "source": [
    "df_nation_region.group_by(\"N_NAME\").count().show()"
   ]
  },
  {
   "cell_type": "markdown",
   "metadata": {},
   "source": [
    "Al finalizar nuestras acciones cerraremos la conexión."
   ]
  },
  {
   "cell_type": "code",
   "execution_count": 31,
   "metadata": {},
   "outputs": [],
   "source": [
    "new_session.close()"
   ]
  },
  {
   "cell_type": "markdown",
   "metadata": {},
   "source": [
    "Tenéis más información en la documentación oficial de Snowflake:\n",
    "\n",
    "* [Documentación](https://docs.snowflake.com/en/user-guide-getting-started)\n",
    "* [Snowpark API](https://docs.snowflake.com/en/developer-guide/snowpark/python/index)\n",
    "\n",
    "Existe un proyecto más generalista pensado para todo tipo de bases de datos (no solo Snowflake) llamado [Apache Ibis](https://ibis-project.org/). Son abstracciones importantes cuando estamos familiarizados con el mundo de los dataframes pero queremos actuar sobre bases de datos voluminosas."
   ]
  }
 ],
 "metadata": {
  "kernelspec": {
   "display_name": "ds4b2b",
   "language": "python",
   "name": "python3"
  },
  "language_info": {
   "codemirror_mode": {
    "name": "ipython",
    "version": 3
   },
   "file_extension": ".py",
   "mimetype": "text/x-python",
   "name": "python",
   "nbconvert_exporter": "python",
   "pygments_lexer": "ipython3",
   "version": "3.12.7"
  }
 },
 "nbformat": 4,
 "nbformat_minor": 2
}
