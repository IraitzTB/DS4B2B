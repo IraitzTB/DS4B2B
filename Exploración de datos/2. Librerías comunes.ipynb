{
 "cells": [
  {
   "cell_type": "markdown",
   "id": "d2e8d47b",
   "metadata": {},
   "source": [
    "Existen una serie de librerías que todo científico de datos debe conocer. A continuación veremos algunos de los usos básicos de estas librerías para conocer su aporte a nuestra base de código."
   ]
  },
  {
   "cell_type": "markdown",
   "id": "41c3049f",
   "metadata": {},
   "source": [
    "# NumPy: La base del cálculo numérico en Python\n",
    "\n",
    "[NumPy](https://numpy.org/es/) es una librería fundamental para la computación científica en Python. Sus principales ventajas son:\n",
    "- Operaciones vectorizadas que mejoran significativamente el rendimiento\n",
    "- Arrays multidimensionales eficientes en memoria\n",
    "- Funciones matemáticas optimizadas\n",
    "- Integración con otras librerías científicas\n",
    "\n",
    "Veamos algunos ejemplos prácticos:"
   ]
  },
  {
   "cell_type": "code",
   "execution_count": null,
   "id": "6a1a552f",
   "metadata": {},
   "outputs": [
    {
     "name": "stdout",
     "output_type": "stream",
     "text": [
      "Tiempo con lista Python: 0.0285 segundos\n",
      "Tiempo con array NumPy: 0.0021 segundos\n",
      "NumPy es 13.7x más rápido\n"
     ]
    }
   ],
   "source": [
    "import time\n",
    "import numpy as np # Alias muy común\n",
    "\n",
    "# Comparación de rendimiento entre Python puro y NumPy\n",
    "size = 1000000\n",
    "\n",
    "# Lista Python\n",
    "python_list = list(range(size))\n",
    "start_time = time.time()\n",
    "python_result = [x * 2 for x in python_list]\n",
    "python_time = time.time() - start_time\n",
    "\n",
    "# Array NumPy\n",
    "numpy_array = np.array(range(size))\n",
    "start_time = time.time()\n",
    "numpy_result = numpy_array * 2\n",
    "numpy_time = time.time() - start_time\n",
    "\n",
    "print(f\"Tiempo con lista Python: {python_time:.4f} segundos\")\n",
    "print(f\"Tiempo con array NumPy: {numpy_time:.4f} segundos\")\n",
    "print(f\"NumPy es {python_time/numpy_time:.1f}x más rápido\")"
   ]
  },
  {
   "cell_type": "markdown",
   "id": "30eb5321",
   "metadata": {},
   "source": [
    "Las operaciones sobre listas o elementos numéricos multidimensionales se vuelven muy costas y Numpy nos ofrece una vía fácil para acelerar todo ese proceso."
   ]
  },
  {
   "cell_type": "code",
   "execution_count": 3,
   "id": "0f3dd250",
   "metadata": {},
   "outputs": [
    {
     "name": "stdout",
     "output_type": "stream",
     "text": [
      "\n",
      "Operaciones matriciales:\n",
      "Original:\n",
      "[[1 2 3]\n",
      " [4 5 6]\n",
      " [7 8 9]]\n",
      "\n",
      "Transpuesta:\n",
      "[[1 4 7]\n",
      " [2 5 8]\n",
      " [3 6 9]]\n",
      "\n",
      "Inversa (si es posible):\n",
      "Matriz no invertible\n"
     ]
    }
   ],
   "source": [
    "# Ejemplos de operaciones matriciales\n",
    "matriz = np.array([[1, 2, 3],\n",
    "                  [4, 5, 6],\n",
    "                  [7, 8, 9]])\n",
    "\n",
    "print(\"\\nOperaciones matriciales:\")\n",
    "print(\"Original:\")\n",
    "print(matriz)\n",
    "print(\"\\nTranspuesta:\")\n",
    "print(matriz.T)\n",
    "print(\"\\nInversa (si es posible):\")\n",
    "\n",
    "try:\n",
    "    print(np.linalg.inv(matriz))\n",
    "except np.linalg.LinAlgError:\n",
    "    print(\"Matriz no invertible\")"
   ]
  },
  {
   "cell_type": "markdown",
   "id": "137de31f",
   "metadata": {},
   "source": [
    "Como vemos arriba, tenemos mecanismos de control de errores comunes en otros lenguajes. No son demasiado empleados en trabajos exploratorios pero definitivamente cobran relevancia según nos movemos hacia códigos productivos."
   ]
  },
  {
   "cell_type": "markdown",
   "id": "6458d1a3",
   "metadata": {},
   "source": [
    "# Pandas: Análisis de datos estructurados\n",
    "\n",
    "[Pandas](https://pandas.pydata.org/) es una librería esencial para el análisis de datos que proporciona estructuras de datos flexibles y herramientas para trabajar con datos estructurados. Sus principales ventajas son:\n",
    "- DataFrames y Series para manejar datos tabulares\n",
    "- Potentes funciones de agregación y análisis estadístico\n",
    "- Facilidad para leer y escribir diferentes formatos de datos\n",
    "- Manejo eficiente de datos faltantes\n",
    "\n",
    "Veamos algunos ejemplos de análisis estadístico con Pandas:"
   ]
  },
  {
   "cell_type": "code",
   "execution_count": 5,
   "id": "fd2db18d",
   "metadata": {},
   "outputs": [
    {
     "data": {
      "text/html": [
       "<div>\n",
       "<style scoped>\n",
       "    .dataframe tbody tr th:only-of-type {\n",
       "        vertical-align: middle;\n",
       "    }\n",
       "\n",
       "    .dataframe tbody tr th {\n",
       "        vertical-align: top;\n",
       "    }\n",
       "\n",
       "    .dataframe thead th {\n",
       "        text-align: right;\n",
       "    }\n",
       "</style>\n",
       "<table border=\"1\" class=\"dataframe\">\n",
       "  <thead>\n",
       "    <tr style=\"text-align: right;\">\n",
       "      <th></th>\n",
       "      <th>Producto</th>\n",
       "      <th>Ventas</th>\n",
       "      <th>Region</th>\n",
       "    </tr>\n",
       "  </thead>\n",
       "  <tbody>\n",
       "    <tr>\n",
       "      <th>0</th>\n",
       "      <td>A</td>\n",
       "      <td>109.934283</td>\n",
       "      <td>Sur</td>\n",
       "    </tr>\n",
       "    <tr>\n",
       "      <th>1</th>\n",
       "      <td>B</td>\n",
       "      <td>97.234714</td>\n",
       "      <td>Norte</td>\n",
       "    </tr>\n",
       "    <tr>\n",
       "      <th>2</th>\n",
       "      <td>C</td>\n",
       "      <td>112.953771</td>\n",
       "      <td>Oeste</td>\n",
       "    </tr>\n",
       "    <tr>\n",
       "      <th>3</th>\n",
       "      <td>A</td>\n",
       "      <td>130.460597</td>\n",
       "      <td>Este</td>\n",
       "    </tr>\n",
       "    <tr>\n",
       "      <th>4</th>\n",
       "      <td>B</td>\n",
       "      <td>95.316933</td>\n",
       "      <td>Este</td>\n",
       "    </tr>\n",
       "    <tr>\n",
       "      <th>5</th>\n",
       "      <td>C</td>\n",
       "      <td>95.317261</td>\n",
       "      <td>Sur</td>\n",
       "    </tr>\n",
       "    <tr>\n",
       "      <th>6</th>\n",
       "      <td>A</td>\n",
       "      <td>131.584256</td>\n",
       "      <td>Oeste</td>\n",
       "    </tr>\n",
       "    <tr>\n",
       "      <th>7</th>\n",
       "      <td>B</td>\n",
       "      <td>115.348695</td>\n",
       "      <td>Norte</td>\n",
       "    </tr>\n",
       "    <tr>\n",
       "      <th>8</th>\n",
       "      <td>C</td>\n",
       "      <td>90.610512</td>\n",
       "      <td>Este</td>\n",
       "    </tr>\n",
       "    <tr>\n",
       "      <th>9</th>\n",
       "      <td>A</td>\n",
       "      <td>110.851201</td>\n",
       "      <td>Oeste</td>\n",
       "    </tr>\n",
       "  </tbody>\n",
       "</table>\n",
       "</div>"
      ],
      "text/plain": [
       "  Producto      Ventas Region\n",
       "0        A  109.934283    Sur\n",
       "1        B   97.234714  Norte\n",
       "2        C  112.953771  Oeste\n",
       "3        A  130.460597   Este\n",
       "4        B   95.316933   Este\n",
       "5        C   95.317261    Sur\n",
       "6        A  131.584256  Oeste\n",
       "7        B  115.348695  Norte\n",
       "8        C   90.610512   Este\n",
       "9        A  110.851201  Oeste"
      ]
     },
     "execution_count": 5,
     "metadata": {},
     "output_type": "execute_result"
    }
   ],
   "source": [
    "import pandas as pd\n",
    "import numpy as np\n",
    "\n",
    "# Crear un DataFrame de ejemplo con datos de ventas\n",
    "np.random.seed(42)\n",
    "data = {\n",
    "    'Producto': ['A', 'B', 'C', 'A', 'B', 'C'] * 10,\n",
    "    'Ventas': np.random.normal(100, 20, 60),\n",
    "    'Region': np.random.choice(['Norte', 'Sur', 'Este', 'Oeste'], 60)\n",
    "}\n",
    "\n",
    "df = pd.DataFrame(data)\n",
    "df.head(10) # Primeros 10 elementos"
   ]
  },
  {
   "cell_type": "markdown",
   "id": "6878f844",
   "metadata": {},
   "source": [
    "Puede darnos estadísticas sobre los campos de forma sencilla, con un solo comando."
   ]
  },
  {
   "cell_type": "code",
   "execution_count": 6,
   "id": "7aac0e7c",
   "metadata": {},
   "outputs": [
    {
     "name": "stdout",
     "output_type": "stream",
     "text": [
      "Estadísticas descriptivas por producto:\n",
      "          count        mean        std        min        25%         50%  \\\n",
      "Producto                                                                   \n",
      "A          20.0  101.109844  14.868125  78.845781  89.022821  100.812130   \n",
      "B          20.0   94.685455  20.449525  60.806598  84.782014   94.647429   \n",
      "C          20.0   94.925420  18.923021  65.501643  76.630878   94.741693   \n",
      "\n",
      "                 75%         max  \n",
      "Producto                          \n",
      "A         108.119041  131.584256  \n",
      "B         108.661284  137.045564  \n",
      "C         107.919641  129.312975  \n"
     ]
    }
   ],
   "source": [
    "# Análisis estadístico básico\n",
    "print(\"Estadísticas descriptivas por producto:\")\n",
    "print(df.groupby('Producto')['Ventas'].describe())"
   ]
  },
  {
   "cell_type": "markdown",
   "id": "a9d8d351",
   "metadata": {},
   "source": [
    "Aunque también nos permite actuar sobre campos concretos y operar mediante agrupaciones."
   ]
  },
  {
   "cell_type": "code",
   "execution_count": 7,
   "id": "0549e555",
   "metadata": {},
   "outputs": [
    {
     "name": "stdout",
     "output_type": "stream",
     "text": [
      "\n",
      "Mediana de ventas por región:\n",
      "Region\n",
      "Este      90.698868\n",
      "Norte    100.331040\n",
      "Oeste    104.269118\n",
      "Sur      100.540310\n",
      "Name: Ventas, dtype: float64\n"
     ]
    }
   ],
   "source": [
    "print(\"\\nMediana de ventas por región:\")\n",
    "print(df.groupby('Region')['Ventas'].median())"
   ]
  },
  {
   "cell_type": "markdown",
   "id": "bb0e3acc",
   "metadata": {},
   "source": [
    "No es casualidad que muchas de las funciones tengan un homologo en SQL ya que las estructuras tabulares y funciones estadísticas han sido empleadas mucho antes de la existencia de Pandas, con lo que en muchos casos veremos un traducción directa que incluso podemos expresar usando sentencias SQL."
   ]
  },
  {
   "cell_type": "code",
   "execution_count": 13,
   "id": "d97680ac",
   "metadata": {},
   "outputs": [
    {
     "name": "stdout",
     "output_type": "stream",
     "text": [
      "\n",
      "Tabla pivote de ventas medias por Producto y Región:\n",
      "Region          Este       Norte       Oeste         Sur\n",
      "Producto                                                \n",
      "A         100.829911   96.839107  107.917653   95.886901\n",
      "B          83.826213   99.352982   89.349412  111.809962\n",
      "C          89.940593  102.618878  116.232337   89.040570\n"
     ]
    }
   ],
   "source": [
    "# Pivot table para análisis cruzado\n",
    "print(\"\\nTabla pivote de ventas medias por Producto y Región:\")\n",
    "pivot_table = pd.pivot_table(df, \n",
    "                           values='Ventas', \n",
    "                           index='Producto',\n",
    "                           columns='Region',\n",
    "                           aggfunc='mean')\n",
    "print(pivot_table)"
   ]
  },
  {
   "cell_type": "markdown",
   "id": "ba7be248",
   "metadata": {},
   "source": [
    "Veremos que gran parte de la labor de estudio es realizar un análisis estadístico de los datos, y para eso necesitamos conocer este tipo de operativa de forma precisa ya que podemos llegar a tomar decisiones erróneas en el resumen de datos como la media ante distribuciones no normales.\n",
    "\n",
    "## Scipy\n",
    "\n",
    "[Scipy](https://scipy.org/) es una librería de Python que amplía las capacidades de NumPy, proporcionando herramientas avanzadas para el análisis científico y técnico. Incluye módulos para estadística, optimización, álgebra lineal, integración, procesamiento de señales y mucho más. Es fundamental para realizar análisis estadísticos más complejos y pruebas de hipótesis en ciencia de datos."
   ]
  },
  {
   "cell_type": "code",
   "execution_count": 14,
   "id": "52179aaf",
   "metadata": {},
   "outputs": [
    {
     "name": "stdout",
     "output_type": "stream",
     "text": [
      "F-statistic: 0.7979\n",
      "p-value: 0.4552\n"
     ]
    }
   ],
   "source": [
    "# Análisis más avanzado\n",
    "from scipy import stats\n",
    "\n",
    "productos = [group for name, group in df.groupby('Producto')['Ventas']]\n",
    "f_statistic, p_value = stats.f_oneway(*productos)\n",
    "print(f\"F-statistic: {f_statistic:.4f}\")\n",
    "print(f\"p-value: {p_value:.4f}\")"
   ]
  },
  {
   "cell_type": "markdown",
   "id": "8024e44a",
   "metadata": {},
   "source": [
    "El resultado del análisis estadístico avanzado realizado con `scipy.stats.f_oneway` muestra lo siguiente:\n",
    "\n",
    "- **F-statistic:** 0.7979\n",
    "- **p-value:** 0.4552\n",
    "\n",
    "Esto indica que, al comparar las medias de ventas entre los diferentes productos (A, B y C), no se observa una diferencia estadísticamente significativa. El valor p es mucho mayor que el umbral típico de 0.05, por lo que no podemos rechazar la hipótesis nula de que las medias de ventas son iguales entre los productos. \n",
    "\n",
    "En resumen, según este análisis, no hay evidencia suficiente para afirmar que las ventas medias difieren entre los productos analizados."
   ]
  },
  {
   "cell_type": "code",
   "execution_count": 15,
   "id": "94a139c2",
   "metadata": {},
   "outputs": [
    {
     "name": "stdout",
     "output_type": "stream",
     "text": [
      "Estadístico de Shapiro-Wilk: 0.9880\n",
      "p-value: 0.8232\n",
      "No se puede rechazar la normalidad para 'Ventas' (no se rechaza H0).\n"
     ]
    }
   ],
   "source": [
    "from scipy.stats import shapiro\n",
    "\n",
    "# Análisis de normalidad sobre la variable 'Ventas' usando la prueba de Shapiro-Wilk\n",
    "stat, p = shapiro(df['Ventas'])\n",
    "print(f\"Estadístico de Shapiro-Wilk: {stat:.4f}\")\n",
    "print(f\"p-value: {p:.4f}\")\n",
    "\n",
    "if p < 0.05:\n",
    "    print(\"La variable 'Ventas' NO sigue una distribución normal (rechazamos H0).\")\n",
    "else:\n",
    "    print(\"No se puede rechazar la normalidad para 'Ventas' (no se rechaza H0).\")"
   ]
  },
  {
   "cell_type": "markdown",
   "id": "317f9b8b",
   "metadata": {},
   "source": [
    "Esto indicaría que podemos asumir normalidad y por lo tanto podemos entender la media como un buen estimador de centralidad."
   ]
  },
  {
   "cell_type": "markdown",
   "id": "bd9d65a5",
   "metadata": {},
   "source": [
    "# Matplotlib: Visualización de datos\n",
    "\n",
    "[Matplotlib](https://matplotlib.org/) es la librería estándar para la visualización de datos en Python. Sus ventajas principales son:\n",
    "- Permite crear gráficos de alta calidad y personalizables\n",
    "- Compatible con otros paquetes como Pandas y NumPy\n",
    "- Ideal para explorar distribuciones y relaciones entre variables\n",
    "\n",
    "A continuación, un ejemplo de visualización de la distribución de los datos:"
   ]
  },
  {
   "cell_type": "code",
   "execution_count": 16,
   "id": "b0d89719",
   "metadata": {},
   "outputs": [
    {
     "data": {
      "image/png": "[encoded data removed]",
      "text/plain": [
       "<Figure size 1000x600 with 1 Axes>"
      ]
     },
     "metadata": {},
     "output_type": "display_data"
    }
   ],
   "source": [
    "import matplotlib.pyplot as plt\n",
    "import seaborn as sns\n",
    "\n",
    "# Usamos el DataFrame df creado anteriormente\n",
    "plt.figure(figsize=(10, 6))\n",
    "sns.histplot(df['Ventas'], kde=True, bins=15, color='skyblue')\n",
    "plt.title('Distribución de las Ventas')\n",
    "plt.xlabel('Ventas')\n",
    "plt.ylabel('Frecuencia')\n",
    "plt.show()"
   ]
  },
  {
   "cell_type": "markdown",
   "id": "8365a74f",
   "metadata": {},
   "source": [
    "Vemos que ventas muestra esa forma acampanada que nos indica una potencial distribución normal. Por tanto puedo asumir con cierta confianza que las ventas se encuentran alrededor de la media con una cobertura de +/- la desviación estándar."
   ]
  },
  {
   "cell_type": "code",
   "execution_count": 20,
   "id": "df20698d",
   "metadata": {},
   "outputs": [
    {
     "name": "stdout",
     "output_type": "stream",
     "text": [
      "Nuestro valor esperado de ventas es de 96.90690633859022 (+/- 18.170422416442378) \n"
     ]
    }
   ],
   "source": [
    "print(f\"Nuestro valor esperado de ventas es de {df[\"Ventas\"].mean()} (+/- {df[\"Ventas\"].std()}) \")"
   ]
  },
  {
   "cell_type": "markdown",
   "id": "85be0ae6",
   "metadata": {},
   "source": [
    "La **desviación estándar** mide cuánto se dispersan los valores de ventas respecto a la media. En un contexto de distribución normal, aproximadamente el 68% de los datos se encuentran dentro de una desviación estándar de la media, y alrededor del 95% dentro de dos desviaciones estándar. Esto significa que la mayoría de las ventas estarán cerca del valor medio, y la desviación estándar nos indica cuán concentradas o dispersas están esas ventas alrededor de ese promedio. Una desviación estándar baja implica ventas más consistentes; una alta, mayor variabilidad."
   ]
  },
  {
   "cell_type": "code",
   "execution_count": 21,
   "id": "c6cd9f62",
   "metadata": {},
   "outputs": [
    {
     "data": {
      "image/png": "[encoded data removed]",
      "text/plain": [
       "<Figure size 800x500 with 1 Axes>"
      ]
     },
     "metadata": {},
     "output_type": "display_data"
    }
   ],
   "source": [
    "# Gráfico de caja por producto\n",
    "plt.figure(figsize=(8, 5))\n",
    "sns.boxplot(x='Producto', y='Ventas', data=df, palette='Set2', hue='Producto')\n",
    "plt.title('Distribución de Ventas por Producto')\n",
    "plt.show()"
   ]
  },
  {
   "cell_type": "markdown",
   "id": "b2204c22",
   "metadata": {},
   "source": [
    "El diagrama de cajas nos ayuda a entender más sobre la distribución. Es como si la viéramos desde arriba.\n",
    "\n",
    "![](https://upload.wikimedia.org/wikipedia/commons/4/4a/Diagrama_de_caja.jpg)"
   ]
  }
 ],
 "metadata": {
  "kernelspec": {
   "display_name": "ds4b2b",
   "language": "python",
   "name": "python3"
  },
  "language_info": {
   "codemirror_mode": {
    "name": "ipython",
    "version": 3
   },
   "file_extension": ".py",
   "mimetype": "text/x-python",
   "name": "python",
   "nbconvert_exporter": "python",
   "pygments_lexer": "ipython3",
   "version": "3.12.7"
  }
 },
 "nbformat": 4,
 "nbformat_minor": 5
}
