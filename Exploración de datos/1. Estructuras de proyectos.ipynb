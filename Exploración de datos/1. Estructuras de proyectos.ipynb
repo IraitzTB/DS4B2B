{
 "cells": [
  {
   "cell_type": "markdown",
   "id": "cddca537",
   "metadata": {},
   "source": [
    "# Estructura de proyectos\n",
    "\n",
    "Suele ser habitual que cuando iniciemos un proyecto, le dotemos de una estructura. Python no es ajeno a esto, pero cuando hablamos de ciencia de datos hay que ser consciente de las variaciones con respecto a proyectos de desarrollo convencional. Además debemos entender que Python como intérprete funciona a nivel de sistema global con lo que deberemos encontrar una forma de indicar las necesidades individuales del proyecto, más aún si trabajaremos en más de un proyecto en nuestro equipo.\n",
    "\n",
    "## Entornos virtuales en Python\n",
    "\n",
    "La gestión de entornos virtuales en Python es fundamental para garantizar la reproducibilidad de los proyectos. Un entorno virtual permite aislar las dependencias y versiones de paquetes utilizados en un proyecto, evitando conflictos con otras aplicaciones o proyectos en el mismo sistema. De esta manera, se asegura que el código funcione de la misma forma en diferentes máquinas o cuando se comparta con otros colaboradores.\n",
    "\n",
    "Utilizar herramientas como `venv`, `virtualenv`, `conda` o gestores modernos como `uv` facilita la creación y administración de estos entornos. Además, mantener un archivo de especificación de dependencias (como `pyproject.toml` o `requirements.txt`) permite reconstruir el entorno exacto en cualquier momento, lo que es clave para la replicabilidad de experimentos y resultados en ciencia de datos.\n",
    "\n",
    "## Gestores de proyectos\n",
    "\n",
    "Si empleamos un gestor de proyectos, estos mismos se encargarán de disponer una serie de piezas básicas una vez ejecutamos nuestro comando de inicialización. Elegiremos una carpeta donde guardar nuestro código en el entorno de desarrollo y ejecutaremos\n",
    "\n",
    "```sh\n",
    "uv init\n",
    "```\n",
    "\n",
    "Vemos que nos crea in fichero `.py` a modo de ejemplo. En nuestro caso querremos disponer de distintas carpetas donde estructurar código reutilizable frente a notebooks que usaremos para el ámbito más exploratorio.\n",
    "\n",
    ":::{.callout-important}\n",
    "\n",
    "El resultado que nos interesa de un ejercicio de ciencia de datos, no es tanto el código, si no los insight o el aprendizaje. Aunque si queremos poder repetir el experimento en las mismas condiciones.\n",
    "\n",
    ":::"
   ]
  },
  {
   "cell_type": "markdown",
   "id": "7ce4e2e2",
   "metadata": {},
   "source": [
    "En este repositorio podemos ver cómo los módulos están separados en carpetas, pero todos disponen de un mismo fichero _pyproject.toml_ en la ruta principal de cara a regenerar el entorno virtual necesario mediante el comando\n",
    "\n",
    "```sh\n",
    "uv sync\n",
    "```\n",
    "\n",
    "que genera una carpeta de sistema _.venv_ ajena al versionado (por eso se muestra en color gris)."
   ]
  }
 ],
 "metadata": {
  "language_info": {
   "name": "python"
  }
 },
 "nbformat": 4,
 "nbformat_minor": 5
}
