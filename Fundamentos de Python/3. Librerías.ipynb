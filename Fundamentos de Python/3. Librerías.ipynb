{
 "cells": [
  {
   "cell_type": "markdown",
   "id": "e57ea8a3",
   "metadata": {},
   "source": [
    "# Librerías en Python\n",
    "\n",
    "Las librerías (o módulos) en Python son colecciones de código reutilizable que nos permiten acceder a funcionalidades adicionales sin tener que escribirlas desde cero. Python tiene dos tipos principales de librerías:\n",
    "\n",
    "1. **Librerías estándar**: Vienen incluidas con Python y están disponibles inmediatamente (como `math`, `random`, `datetime`, etc.)\n",
    "2. **Librerías externas**: Necesitan ser instaladas usando un gestor de paquetes como `pip`\n",
    "\n",
    "## Importación de librerías estándar\n",
    "Veamos primero cómo importar y usar librerías que ya vienen con Python."
   ]
  },
  {
   "cell_type": "code",
   "execution_count": null,
   "id": "1e7aff06",
   "metadata": {},
   "outputs": [],
   "source": [
    "# Importamos la librería math\n",
    "import math\n",
    "\n",
    "# Usando algunas funciones de math\n",
    "print(f\"El valor de PI es: {math.pi}\")\n",
    "print(f\"La raíz cuadrada de 16 es: {math.sqrt(16)}\")\n",
    "print(f\"El seno de 30 grados es: {math.sin(math.radians(30))}\")\n",
    "\n",
    "# También podemos importar funciones específicas\n",
    "from math import factorial, pow\n",
    "print(f\"El factorial de 5 es: {factorial(5)}\")\n",
    "print(f\"2 elevado a 3 es: {pow(2, 3)}\")\n",
    "\n",
    "# O importar todo con un alias\n",
    "import math as m\n",
    "print(f\"El coseno de 60 grados es: {m.cos(m.radians(60))}\")"
   ]
  },
  {
   "cell_type": "markdown",
   "id": "c35b0e1b",
   "metadata": {},
   "source": [
    "## Formas de importar módulos\n",
    "\n",
    "En Python, tenemos diferentes formas de importar módulos:\n",
    "\n",
    "1. `import módulo`: Importa todo el módulo y debemos usar el nombre del módulo como prefijo\n",
    "2. `from módulo import función`: Importa funciones específicas que podemos usar directamente\n",
    "3. `import módulo as alias`: Importa el módulo con un nombre alternativo más corto\n",
    "4. `from módulo import *`: Importa todas las funciones (no recomendado por claridad del código)\n",
    "\n",
    "## Instalación y uso de librerías externas\n",
    "\n",
    "Para instalar librerías externas, usamos pip (el gestor de paquetes de Python). Algunos comandos básicos son:\n",
    "\n",
    "```bash\n",
    "pip install nombre_libreria        # Instalar una librería\n",
    "pip list                          # Ver librerías instaladas\n",
    "pip install --upgrade nombre_libreria  # Actualizar una librería\n",
    "```\n",
    "\n",
    "Veamos un ejemplo con una librería muy popular: `numpy` para cálculos numéricos."
   ]
  },
  {
   "cell_type": "code",
   "execution_count": null,
   "id": "2d7a10d0",
   "metadata": {},
   "outputs": [],
   "source": [
    "# Para usar numpy, primero debemos instalarlo con:\n",
    "# pip install numpy\n",
    "# Una vez instalado, podemos importarlo:\n",
    "\n",
    "import numpy as np\n",
    "\n",
    "# Crear un array\n",
    "array = np.array([1, 2, 3, 4, 5])\n",
    "print(\"Array creado:\", array)\n",
    "\n",
    "# Operaciones básicas\n",
    "print(\"Media del array:\", np.mean(array))\n",
    "print(\"Suma de elementos:\", np.sum(array))\n",
    "print(\"Array al cuadrado:\", array ** 2)\n",
    "\n",
    "# Crear una matriz 2x3\n",
    "matriz = np.array([[1, 2, 3],\n",
    "                  [4, 5, 6]])\n",
    "print(\"\\nMatriz 2x3:\\n\", matriz)\n",
    "print(\"Forma de la matriz:\", matriz.shape)"
   ]
  },
  {
   "cell_type": "markdown",
   "id": "5c4b381a",
   "metadata": {},
   "source": [
    "## Ejemplo con la librería random\n",
    "\n",
    "La librería `random` es otra librería estándar muy útil que nos permite generar números aleatorios y realizar selecciones aleatorias. Veamos algunos ejemplos:"
   ]
  },
  {
   "cell_type": "code",
   "execution_count": null,
   "id": "4239855b",
   "metadata": {},
   "outputs": [],
   "source": [
    "import random\n",
    "\n",
    "# Generar un número aleatorio entre 0 y 1\n",
    "print(\"Número aleatorio entre 0 y 1:\", random.random())\n",
    "\n",
    "# Generar un número entero aleatorio en un rango\n",
    "print(\"Número entero entre 1 y 10:\", random.randint(1, 10))\n",
    "\n",
    "# Seleccionar un elemento aleatorio de una lista\n",
    "frutas = ['manzana', 'naranja', 'plátano', 'pera', 'uva']\n",
    "print(\"Fruta aleatoria:\", random.choice(frutas))\n",
    "\n",
    "# Mezclar una lista\n",
    "numeros = list(range(1, 11))  # Lista del 1 al 10\n",
    "random.shuffle(numeros)\n",
    "print(\"Lista mezclada:\", numeros)\n",
    "\n",
    "# Seleccionar múltiples elementos únicos\n",
    "print(\"3 frutas aleatorias diferentes:\", random.sample(frutas, 3))"
   ]
  }
 ],
 "metadata": {
  "kernelspec": {
   "display_name": "ds4b2b",
   "language": "python",
   "name": "python3"
  },
  "language_info": {
   "name": "python",
   "version": "3.12.7"
  }
 },
 "nbformat": 4,
 "nbformat_minor": 5
}
