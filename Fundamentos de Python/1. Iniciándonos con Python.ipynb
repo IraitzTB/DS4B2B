{
 "cells": [
  {
   "cell_type": "markdown",
   "id": "e192e4c6",
   "metadata": {},
   "source": [
    "Para iniciarnos en Python podemos abrir de manera sencilla este notebook en un entorno colaborativo online. Esto nos permitirá hacer nuestras primeras pruebas sin necesidad de hacer instalaciones adicionales.\n",
    "\n",
    "[![Abrir en Colab](https://colab.research.google.com/assets/colab-badge.svg)](https://colab.research.google.com/github/IraitzTB/BS4B2B/blob/main/Fundamentos%20de%20Python/1.%20Iniciándonos%20con%20Python.ipynb)"
   ]
  },
  {
   "cell_type": "markdown",
   "id": "825d29bb",
   "metadata": {},
   "source": []
  }
 ],
 "metadata": {
  "language_info": {
   "name": "python"
  }
 },
 "nbformat": 4,
 "nbformat_minor": 5
}
